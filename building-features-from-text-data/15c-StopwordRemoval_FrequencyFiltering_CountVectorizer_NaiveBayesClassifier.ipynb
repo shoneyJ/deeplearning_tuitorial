{
 "cells": [
  {
   "cell_type": "code",
   "execution_count": 18,
   "metadata": {},
   "outputs": [],
   "source": [
    "import pandas as pd\n",
    "import numpy as np\n",
    "\n",
    "from sklearn.model_selection import train_test_split\n",
    "from sklearn.metrics import accuracy_score\n",
    "from sklearn.metrics import precision_score\n",
    "from sklearn.metrics import recall_score\n",
    "\n",
    "from sklearn.feature_extraction.text import CountVectorizer\n",
    "from sklearn.feature_extraction.text import TfidfTransformer\n",
    "from sklearn.feature_extraction import text \n",
    "\n",
    "from sklearn.naive_bayes import GaussianNB\n",
    "\n",
    "from nltk.tokenize import word_tokenize\n",
    "from nltk.probability import FreqDist"
   ]
  },
  {
   "cell_type": "code",
   "execution_count": 2,
   "metadata": {},
   "outputs": [],
   "source": [
    "dbpedia_df = pd.read_csv('./datasets/dbpedia_csv/train.csv', \n",
    "                       skiprows=1, names = ['Label', 'Name', 'Text'])"
   ]
  },
  {
   "cell_type": "code",
   "execution_count": 3,
   "metadata": {},
   "outputs": [
    {
     "data": {
      "text/plain": [
       "(559999, 3)"
      ]
     },
     "execution_count": 3,
     "metadata": {},
     "output_type": "execute_result"
    }
   ],
   "source": [
    "dbpedia_df.shape"
   ]
  },
  {
   "cell_type": "code",
   "execution_count": 4,
   "metadata": {},
   "outputs": [
    {
     "data": {
      "text/plain": [
       "array([ 1,  2,  3,  4,  5,  6,  7,  8,  9, 10, 11, 12, 13, 14])"
      ]
     },
     "execution_count": 4,
     "metadata": {},
     "output_type": "execute_result"
    }
   ],
   "source": [
    "dbpedia_df['Label'].unique()"
   ]
  },
  {
   "cell_type": "code",
   "execution_count": 5,
   "metadata": {},
   "outputs": [],
   "source": [
    "dbpedia_df = dbpedia_df.sample(10000, replace=False)"
   ]
  },
  {
   "cell_type": "code",
   "execution_count": 6,
   "metadata": {},
   "outputs": [
    {
     "data": {
      "text/html": [
       "<div>\n",
       "<style scoped>\n",
       "    .dataframe tbody tr th:only-of-type {\n",
       "        vertical-align: middle;\n",
       "    }\n",
       "\n",
       "    .dataframe tbody tr th {\n",
       "        vertical-align: top;\n",
       "    }\n",
       "\n",
       "    .dataframe thead th {\n",
       "        text-align: right;\n",
       "    }\n",
       "</style>\n",
       "<table border=\"1\" class=\"dataframe\">\n",
       "  <thead>\n",
       "    <tr style=\"text-align: right;\">\n",
       "      <th></th>\n",
       "      <th>Label</th>\n",
       "      <th>Name</th>\n",
       "      <th>Text</th>\n",
       "    </tr>\n",
       "  </thead>\n",
       "  <tbody>\n",
       "    <tr>\n",
       "      <th>179975</th>\n",
       "      <td>5</td>\n",
       "      <td>Ramreddy Damodar Reddy</td>\n",
       "      <td>Ramreddy Damodar Reddy (Telugu: రాంరెడ్డి దామ...</td>\n",
       "    </tr>\n",
       "    <tr>\n",
       "      <th>558672</th>\n",
       "      <td>14</td>\n",
       "      <td>Sonora Review</td>\n",
       "      <td>Sonora Review is a biannual graduate student-...</td>\n",
       "    </tr>\n",
       "    <tr>\n",
       "      <th>503492</th>\n",
       "      <td>13</td>\n",
       "      <td>Luz en el páramo</td>\n",
       "      <td>Luz en el páramo is a 1953 Venezuelan film di...</td>\n",
       "    </tr>\n",
       "    <tr>\n",
       "      <th>40980</th>\n",
       "      <td>2</td>\n",
       "      <td>Oswaldo Cruz Foundation</td>\n",
       "      <td>The Oswaldo Cruz Foundation (Portuguese Funda...</td>\n",
       "    </tr>\n",
       "    <tr>\n",
       "      <th>199065</th>\n",
       "      <td>5</td>\n",
       "      <td>Tate Reeves</td>\n",
       "      <td>Jonathon Tate Reeves (born June 5 1974) a Rep...</td>\n",
       "    </tr>\n",
       "    <tr>\n",
       "      <th>20373</th>\n",
       "      <td>1</td>\n",
       "      <td>Indie Boyz</td>\n",
       "      <td>Indie Boyz is a European company based in Lon...</td>\n",
       "    </tr>\n",
       "    <tr>\n",
       "      <th>131192</th>\n",
       "      <td>4</td>\n",
       "      <td>Hanna Mazgunova</td>\n",
       "      <td>Hanna Mazgunova (Belarusian: Ганна Мазгунова;...</td>\n",
       "    </tr>\n",
       "    <tr>\n",
       "      <th>438389</th>\n",
       "      <td>11</td>\n",
       "      <td>Platystemon</td>\n",
       "      <td>Platystemon is a monotypic genus of flowering...</td>\n",
       "    </tr>\n",
       "    <tr>\n",
       "      <th>295233</th>\n",
       "      <td>8</td>\n",
       "      <td>Paddys River (South West Slopes New South Wales)</td>\n",
       "      <td>Paddys River a watercourse of the Murray catc...</td>\n",
       "    </tr>\n",
       "    <tr>\n",
       "      <th>481401</th>\n",
       "      <td>13</td>\n",
       "      <td>The Ragged Edge (film)</td>\n",
       "      <td>The Ragged Edge is a lost 1923 silent film So...</td>\n",
       "    </tr>\n",
       "  </tbody>\n",
       "</table>\n",
       "</div>"
      ],
      "text/plain": [
       "        Label                                              Name  \\\n",
       "179975      5                            Ramreddy Damodar Reddy   \n",
       "558672     14                                     Sonora Review   \n",
       "503492     13                                  Luz en el páramo   \n",
       "40980       2                           Oswaldo Cruz Foundation   \n",
       "199065      5                                       Tate Reeves   \n",
       "20373       1                                        Indie Boyz   \n",
       "131192      4                                   Hanna Mazgunova   \n",
       "438389     11                                       Platystemon   \n",
       "295233      8  Paddys River (South West Slopes New South Wales)   \n",
       "481401     13                            The Ragged Edge (film)   \n",
       "\n",
       "                                                     Text  \n",
       "179975   Ramreddy Damodar Reddy (Telugu: రాంరెడ్డి దామ...  \n",
       "558672   Sonora Review is a biannual graduate student-...  \n",
       "503492   Luz en el páramo is a 1953 Venezuelan film di...  \n",
       "40980    The Oswaldo Cruz Foundation (Portuguese Funda...  \n",
       "199065   Jonathon Tate Reeves (born June 5 1974) a Rep...  \n",
       "20373    Indie Boyz is a European company based in Lon...  \n",
       "131192   Hanna Mazgunova (Belarusian: Ганна Мазгунова;...  \n",
       "438389   Platystemon is a monotypic genus of flowering...  \n",
       "295233   Paddys River a watercourse of the Murray catc...  \n",
       "481401   The Ragged Edge is a lost 1923 silent film So...  "
      ]
     },
     "execution_count": 6,
     "metadata": {},
     "output_type": "execute_result"
    }
   ],
   "source": [
    "dbpedia_df.sample(10)"
   ]
  },
  {
   "cell_type": "code",
   "execution_count": 7,
   "metadata": {},
   "outputs": [
    {
     "data": {
      "text/plain": [
       "(10000, 3)"
      ]
     },
     "execution_count": 7,
     "metadata": {},
     "output_type": "execute_result"
    }
   ],
   "source": [
    "dbpedia_df.shape"
   ]
  },
  {
   "cell_type": "code",
   "execution_count": 8,
   "metadata": {},
   "outputs": [],
   "source": [
    "X = dbpedia_df['Text']\n",
    "\n",
    "Y = dbpedia_df['Label']"
   ]
  },
  {
   "cell_type": "code",
   "execution_count": 9,
   "metadata": {},
   "outputs": [],
   "source": [
    "def summarize_classification(y_test, y_pred):\n",
    "\n",
    "    acc = accuracy_score(y_test, y_pred, normalize=True)\n",
    "    num_acc = accuracy_score(y_test, y_pred, normalize=False)\n",
    "    prec = precision_score(y_test, y_pred, average='weighted')\n",
    "    recall = recall_score(y_test, y_pred, average='weighted')\n",
    "    \n",
    "    print(\"Length of testing data: \", len(y_test))\n",
    "    print(\"accuracy_count : \" , num_acc)\n",
    "    print(\"accuracy_score : \" , acc)\n",
    "    print(\"precision_score : \" , prec)\n",
    "    print(\"recall_score : \", recall)"
   ]
  },
  {
   "cell_type": "code",
   "execution_count": 10,
   "metadata": {},
   "outputs": [
    {
     "data": {
      "text/plain": [
       "504495"
      ]
     },
     "execution_count": 10,
     "metadata": {},
     "output_type": "execute_result"
    }
   ],
   "source": [
    "tokens = word_tokenize(\"\\n\".join(X.values))\n",
    "\n",
    "len(tokens)"
   ]
  },
  {
   "cell_type": "code",
   "execution_count": 11,
   "metadata": {},
   "outputs": [
    {
     "data": {
      "text/plain": [
       "FreqDist({'the': 23494, '.': 23437, 'in': 16379, 'of': 15332, 'is': 13499, 'and': 12934, 'a': 12862, '(': 7204, ')': 7199, 'was': 6950, ...})"
      ]
     },
     "execution_count": 11,
     "metadata": {},
     "output_type": "execute_result"
    }
   ],
   "source": [
    "freq = FreqDist(tokens)\n",
    "freq"
   ]
  },
  {
   "cell_type": "code",
   "execution_count": 12,
   "metadata": {},
   "outputs": [
    {
     "data": {
      "text/plain": [
       "487"
      ]
     },
     "execution_count": 12,
     "metadata": {},
     "output_type": "execute_result"
    }
   ],
   "source": [
    "frequent_words = []\n",
    "\n",
    "for key, value in freq.items():\n",
    "    if value >= 100:\n",
    "        frequent_words.append(key.lower())\n",
    "        \n",
    "len(frequent_words)"
   ]
  },
  {
   "cell_type": "code",
   "execution_count": 13,
   "metadata": {},
   "outputs": [
    {
     "data": {
      "text/plain": [
       "['(',\n",
       " ':',\n",
       " '[',\n",
       " ']',\n",
       " '.',\n",
       " ')',\n",
       " 'is',\n",
       " 'a',\n",
       " 'lake',\n",
       " 'in',\n",
       " 'located',\n",
       " 'north',\n",
       " 'of',\n",
       " 'the',\n",
       " 'town',\n",
       " 'district',\n",
       " 'not',\n",
       " '1',\n",
       " 'the',\n",
       " 'area',\n",
       " 'by',\n",
       " 'including',\n",
       " '2001',\n",
       " 'was',\n",
       " 'international']"
      ]
     },
     "execution_count": 13,
     "metadata": {},
     "output_type": "execute_result"
    }
   ],
   "source": [
    "frequent_words[:25]"
   ]
  },
  {
   "cell_type": "code",
   "execution_count": 15,
   "metadata": {},
   "outputs": [],
   "source": [
    "stop_words = text.ENGLISH_STOP_WORDS.union(frequent_words)"
   ]
  },
  {
   "cell_type": "code",
   "execution_count": 19,
   "metadata": {},
   "outputs": [
    {
     "data": {
      "text/plain": [
       "(10000, 47573)"
      ]
     },
     "execution_count": 19,
     "metadata": {},
     "output_type": "execute_result"
    }
   ],
   "source": [
    "count_vectorizer = CountVectorizer(stop_words=stop_words)\n",
    "\n",
    "feature_vector = count_vectorizer.fit_transform(X)\n",
    "\n",
    "feature_vector.shape"
   ]
  },
  {
   "cell_type": "code",
   "execution_count": 20,
   "metadata": {},
   "outputs": [
    {
     "data": {
      "text/plain": [
       "(10000, 47573)"
      ]
     },
     "execution_count": 20,
     "metadata": {},
     "output_type": "execute_result"
    }
   ],
   "source": [
    "tfidf_transformer = TfidfTransformer()\n",
    "\n",
    "feature_vector = tfidf_transformer.fit_transform(feature_vector)\n",
    "\n",
    "feature_vector.shape"
   ]
  },
  {
   "cell_type": "code",
   "execution_count": 21,
   "metadata": {},
   "outputs": [],
   "source": [
    "X_dense = feature_vector.todense()"
   ]
  },
  {
   "cell_type": "code",
   "execution_count": 22,
   "metadata": {},
   "outputs": [
    {
     "data": {
      "text/plain": [
       "(10000, 47573)"
      ]
     },
     "execution_count": 22,
     "metadata": {},
     "output_type": "execute_result"
    }
   ],
   "source": [
    "X_dense.shape"
   ]
  },
  {
   "cell_type": "code",
   "execution_count": 23,
   "metadata": {},
   "outputs": [],
   "source": [
    "x_train, x_test, y_train, y_test = train_test_split(X_dense, Y, test_size = 0.2)"
   ]
  },
  {
   "cell_type": "code",
   "execution_count": 24,
   "metadata": {},
   "outputs": [],
   "source": [
    "clf = GaussianNB().fit(x_train, y_train)"
   ]
  },
  {
   "cell_type": "code",
   "execution_count": 25,
   "metadata": {},
   "outputs": [
    {
     "data": {
      "text/plain": [
       "array([ 7,  7,  1, ..., 13, 14, 11])"
      ]
     },
     "execution_count": 25,
     "metadata": {},
     "output_type": "execute_result"
    }
   ],
   "source": [
    "y_pred = clf.predict(x_test)\n",
    "y_pred"
   ]
  },
  {
   "cell_type": "code",
   "execution_count": 26,
   "metadata": {},
   "outputs": [
    {
     "name": "stdout",
     "output_type": "stream",
     "text": [
      "Length of testing data:  2000\n",
      "accuracy_count :  1335\n",
      "accuracy_score :  0.6675\n",
      "precision_score :  0.6803619205404001\n",
      "recall_score :  0.6675\n"
     ]
    }
   ],
   "source": [
    "summarize_classification(y_test, y_pred)"
   ]
  },
  {
   "cell_type": "code",
   "execution_count": null,
   "metadata": {},
   "outputs": [],
   "source": []
  }
 ],
 "metadata": {
  "kernelspec": {
   "display_name": "Python 3",
   "language": "python",
   "name": "python3"
  },
  "language_info": {
   "codemirror_mode": {
    "name": "ipython",
    "version": 3
   },
   "file_extension": ".py",
   "mimetype": "text/x-python",
   "name": "python",
   "nbconvert_exporter": "python",
   "pygments_lexer": "ipython3",
   "version": "3.7.1"
  }
 },
 "nbformat": 4,
 "nbformat_minor": 2
}
