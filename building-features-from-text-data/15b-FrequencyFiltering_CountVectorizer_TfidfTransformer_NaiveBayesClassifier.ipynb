{
 "cells": [
  {
   "cell_type": "code",
   "execution_count": 1,
   "metadata": {},
   "outputs": [],
   "source": [
    "import pandas as pd\n",
    "import numpy as np\n",
    "\n",
    "from sklearn.model_selection import train_test_split\n",
    "from sklearn.metrics import accuracy_score\n",
    "from sklearn.metrics import precision_score\n",
    "from sklearn.metrics import recall_score\n",
    "\n",
    "from sklearn.feature_extraction.text import CountVectorizer\n",
    "from sklearn.feature_extraction.text import TfidfTransformer\n",
    "\n",
    "from sklearn.naive_bayes import GaussianNB"
   ]
  },
  {
   "cell_type": "code",
   "execution_count": 2,
   "metadata": {},
   "outputs": [],
   "source": [
    "dbpedia_df = pd.read_csv('./datasets/dbpedia_csv/train.csv', \n",
    "                       skiprows=1, names = ['Label', 'Name', 'Text'])"
   ]
  },
  {
   "cell_type": "code",
   "execution_count": 3,
   "metadata": {},
   "outputs": [
    {
     "data": {
      "text/plain": [
       "(559999, 3)"
      ]
     },
     "execution_count": 3,
     "metadata": {},
     "output_type": "execute_result"
    }
   ],
   "source": [
    "dbpedia_df.shape"
   ]
  },
  {
   "cell_type": "code",
   "execution_count": 4,
   "metadata": {},
   "outputs": [
    {
     "data": {
      "text/plain": [
       "array([ 1,  2,  3,  4,  5,  6,  7,  8,  9, 10, 11, 12, 13, 14])"
      ]
     },
     "execution_count": 4,
     "metadata": {},
     "output_type": "execute_result"
    }
   ],
   "source": [
    "dbpedia_df['Label'].unique()"
   ]
  },
  {
   "cell_type": "code",
   "execution_count": 5,
   "metadata": {},
   "outputs": [],
   "source": [
    "dbpedia_df = dbpedia_df.sample(10000, replace=False)"
   ]
  },
  {
   "cell_type": "code",
   "execution_count": 6,
   "metadata": {},
   "outputs": [
    {
     "data": {
      "text/html": [
       "<div>\n",
       "<style scoped>\n",
       "    .dataframe tbody tr th:only-of-type {\n",
       "        vertical-align: middle;\n",
       "    }\n",
       "\n",
       "    .dataframe tbody tr th {\n",
       "        vertical-align: top;\n",
       "    }\n",
       "\n",
       "    .dataframe thead th {\n",
       "        text-align: right;\n",
       "    }\n",
       "</style>\n",
       "<table border=\"1\" class=\"dataframe\">\n",
       "  <thead>\n",
       "    <tr style=\"text-align: right;\">\n",
       "      <th></th>\n",
       "      <th>Label</th>\n",
       "      <th>Name</th>\n",
       "      <th>Text</th>\n",
       "    </tr>\n",
       "  </thead>\n",
       "  <tbody>\n",
       "    <tr>\n",
       "      <th>510378</th>\n",
       "      <td>13</td>\n",
       "      <td>Unknown (2006 film)</td>\n",
       "      <td>Unknown is a 2006 American crime-thriller fil...</td>\n",
       "    </tr>\n",
       "    <tr>\n",
       "      <th>510665</th>\n",
       "      <td>13</td>\n",
       "      <td>World Without Sun</td>\n",
       "      <td>World Without Sun (French: Le Monde sans sole...</td>\n",
       "    </tr>\n",
       "    <tr>\n",
       "      <th>392655</th>\n",
       "      <td>10</td>\n",
       "      <td>Argyresthia pseudotsuga</td>\n",
       "      <td>Argyresthia pseudotsuga is a moth of the Ypon...</td>\n",
       "    </tr>\n",
       "    <tr>\n",
       "      <th>419827</th>\n",
       "      <td>11</td>\n",
       "      <td>Erythronium multiscapoideum</td>\n",
       "      <td>Erythronium multiscapoideum is a species of f...</td>\n",
       "    </tr>\n",
       "    <tr>\n",
       "      <th>217867</th>\n",
       "      <td>6</td>\n",
       "      <td>Simca 5</td>\n",
       "      <td>The Simca 5 is a small Franco-Italian passeng...</td>\n",
       "    </tr>\n",
       "    <tr>\n",
       "      <th>377408</th>\n",
       "      <td>10</td>\n",
       "      <td>Bucculatrix zophopasta</td>\n",
       "      <td>Bucculatrix zophopasta is a moth in the Buccu...</td>\n",
       "    </tr>\n",
       "    <tr>\n",
       "      <th>232485</th>\n",
       "      <td>6</td>\n",
       "      <td>HMS Ajax (F114)</td>\n",
       "      <td>HMS Ajax was a Leander-class frigate of the R...</td>\n",
       "    </tr>\n",
       "    <tr>\n",
       "      <th>327195</th>\n",
       "      <td>9</td>\n",
       "      <td>Ruś Ostróda County</td>\n",
       "      <td>Ruś [ruɕ] (German Reussen) is a village in th...</td>\n",
       "    </tr>\n",
       "    <tr>\n",
       "      <th>478293</th>\n",
       "      <td>12</td>\n",
       "      <td>Mortal Kombat: The Album</td>\n",
       "      <td>Mortal Kombat: The Album is an album by The I...</td>\n",
       "    </tr>\n",
       "    <tr>\n",
       "      <th>533360</th>\n",
       "      <td>14</td>\n",
       "      <td>Makers (novel)</td>\n",
       "      <td>Makers is a novel by Cory Doctorow. It was re...</td>\n",
       "    </tr>\n",
       "  </tbody>\n",
       "</table>\n",
       "</div>"
      ],
      "text/plain": [
       "        Label                         Name  \\\n",
       "510378     13          Unknown (2006 film)   \n",
       "510665     13            World Without Sun   \n",
       "392655     10      Argyresthia pseudotsuga   \n",
       "419827     11  Erythronium multiscapoideum   \n",
       "217867      6                      Simca 5   \n",
       "377408     10       Bucculatrix zophopasta   \n",
       "232485      6              HMS Ajax (F114)   \n",
       "327195      9           Ruś Ostróda County   \n",
       "478293     12     Mortal Kombat: The Album   \n",
       "533360     14               Makers (novel)   \n",
       "\n",
       "                                                     Text  \n",
       "510378   Unknown is a 2006 American crime-thriller fil...  \n",
       "510665   World Without Sun (French: Le Monde sans sole...  \n",
       "392655   Argyresthia pseudotsuga is a moth of the Ypon...  \n",
       "419827   Erythronium multiscapoideum is a species of f...  \n",
       "217867   The Simca 5 is a small Franco-Italian passeng...  \n",
       "377408   Bucculatrix zophopasta is a moth in the Buccu...  \n",
       "232485   HMS Ajax was a Leander-class frigate of the R...  \n",
       "327195   Ruś [ruɕ] (German Reussen) is a village in th...  \n",
       "478293   Mortal Kombat: The Album is an album by The I...  \n",
       "533360   Makers is a novel by Cory Doctorow. It was re...  "
      ]
     },
     "execution_count": 6,
     "metadata": {},
     "output_type": "execute_result"
    }
   ],
   "source": [
    "dbpedia_df.sample(10)"
   ]
  },
  {
   "cell_type": "code",
   "execution_count": 7,
   "metadata": {},
   "outputs": [
    {
     "data": {
      "text/plain": [
       "(10000, 3)"
      ]
     },
     "execution_count": 7,
     "metadata": {},
     "output_type": "execute_result"
    }
   ],
   "source": [
    "dbpedia_df.shape"
   ]
  },
  {
   "cell_type": "code",
   "execution_count": 8,
   "metadata": {},
   "outputs": [],
   "source": [
    "X = dbpedia_df['Text']\n",
    "\n",
    "Y = dbpedia_df['Label']"
   ]
  },
  {
   "cell_type": "code",
   "execution_count": 10,
   "metadata": {},
   "outputs": [],
   "source": [
    "def summarize_classification(y_test, y_pred):\n",
    "\n",
    "    acc = accuracy_score(y_test, y_pred, normalize=True)\n",
    "    num_acc = accuracy_score(y_test, y_pred, normalize=False)\n",
    "    prec = precision_score(y_test, y_pred, average='weighted')\n",
    "    recall = recall_score(y_test, y_pred, average='weighted')\n",
    "    \n",
    "    print(\"Length of testing data: \", len(y_test))\n",
    "    print(\"accuracy_count : \" , num_acc)\n",
    "    print(\"accuracy_score : \" , acc)\n",
    "    print(\"precision_score : \" , prec)\n",
    "    print(\"recall_score : \", recall)"
   ]
  },
  {
   "cell_type": "code",
   "execution_count": 20,
   "metadata": {},
   "outputs": [
    {
     "data": {
      "text/plain": [
       "(10000, 47544)"
      ]
     },
     "execution_count": 20,
     "metadata": {},
     "output_type": "execute_result"
    }
   ],
   "source": [
    "count_vectorizer = CountVectorizer(min_df=0, max_df=80)\n",
    "\n",
    "feature_vector = count_vectorizer.fit_transform(X)\n",
    "\n",
    "feature_vector.shape"
   ]
  },
  {
   "cell_type": "code",
   "execution_count": 21,
   "metadata": {},
   "outputs": [
    {
     "data": {
      "text/plain": [
       "(10000, 47544)"
      ]
     },
     "execution_count": 21,
     "metadata": {},
     "output_type": "execute_result"
    }
   ],
   "source": [
    "tfidf_transformer = TfidfTransformer()\n",
    "\n",
    "feature_vector = tfidf_transformer.fit_transform(feature_vector)\n",
    "\n",
    "feature_vector.shape"
   ]
  },
  {
   "cell_type": "code",
   "execution_count": 22,
   "metadata": {},
   "outputs": [],
   "source": [
    "X_dense = feature_vector.todense()"
   ]
  },
  {
   "cell_type": "code",
   "execution_count": 23,
   "metadata": {},
   "outputs": [
    {
     "data": {
      "text/plain": [
       "(10000, 47544)"
      ]
     },
     "execution_count": 23,
     "metadata": {},
     "output_type": "execute_result"
    }
   ],
   "source": [
    "X_dense.shape"
   ]
  },
  {
   "cell_type": "code",
   "execution_count": 24,
   "metadata": {},
   "outputs": [],
   "source": [
    "x_train, x_test, y_train, y_test = train_test_split(X_dense, Y, test_size = 0.2)"
   ]
  },
  {
   "cell_type": "code",
   "execution_count": 25,
   "metadata": {},
   "outputs": [],
   "source": [
    "clf = GaussianNB().fit(x_train, y_train)"
   ]
  },
  {
   "cell_type": "code",
   "execution_count": 26,
   "metadata": {},
   "outputs": [
    {
     "data": {
      "text/plain": [
       "array([10,  4,  1, ..., 13,  6,  2])"
      ]
     },
     "execution_count": 26,
     "metadata": {},
     "output_type": "execute_result"
    }
   ],
   "source": [
    "y_pred = clf.predict(x_test)\n",
    "y_pred"
   ]
  },
  {
   "cell_type": "code",
   "execution_count": 27,
   "metadata": {},
   "outputs": [
    {
     "name": "stdout",
     "output_type": "stream",
     "text": [
      "Length of testing data:  2000\n",
      "accuracy_count :  1316\n",
      "accuracy_score :  0.658\n",
      "precision_score :  0.6650727642789968\n",
      "recall_score :  0.658\n"
     ]
    }
   ],
   "source": [
    "summarize_classification(y_test, y_pred)"
   ]
  },
  {
   "cell_type": "code",
   "execution_count": null,
   "metadata": {},
   "outputs": [],
   "source": []
  }
 ],
 "metadata": {
  "kernelspec": {
   "display_name": "Python 3",
   "language": "python",
   "name": "python3"
  },
  "language_info": {
   "codemirror_mode": {
    "name": "ipython",
    "version": 3
   },
   "file_extension": ".py",
   "mimetype": "text/x-python",
   "name": "python",
   "nbconvert_exporter": "python",
   "pygments_lexer": "ipython3",
   "version": "3.7.1"
  }
 },
 "nbformat": 4,
 "nbformat_minor": 2
}
