{
 "cells": [
  {
   "cell_type": "markdown",
   "metadata": {},
   "source": [
    "<b>TfidfTransformer</b> :\n",
    "\n",
    "* Transform a count matrix to a normalized tf or tf-idf representation\n",
    "* Tf means term-frequency while tf-idf means term-frequency times inverse document-frequency. This is a common term weighting scheme in information retrieval, that has also found good use in document classification.\n",
    "\n",
    "https://scikit-learn.org/stable/modules/generated/sklearn.feature_extraction.text.TfidfTransformer.html#sklearn.feature_extraction.text.TfidfTransformer"
   ]
  },
  {
   "cell_type": "markdown",
   "metadata": {},
   "source": [
    "* A <b>Term Frequency</b> is a count of how many times a word occurs in a given document (synonymous with bag of words).\n",
    "* The <b>Inverse Document Frequency</b> is the the number of times a word occurs in a corpus of documents."
   ]
  },
  {
   "cell_type": "markdown",
   "metadata": {},
   "source": [
    "The first step is to create our training and testing document set and computing the term frequency matrix\n",
    "\n",
    "https://scikit-learn.org/stable/modules/feature_extraction.html#tfidf-term-weighting"
   ]
  },
  {
   "cell_type": "markdown",
   "metadata": {},
   "source": [
    "### Creating a count vector\n",
    "\n"
   ]
  },
  {
   "cell_type": "code",
   "execution_count": 3,
   "metadata": {},
   "outputs": [],
   "source": [
    "from sklearn.feature_extraction.text import CountVectorizer\n",
    "\n",
    "train_text = [\"A bird in hand is worth two in the bush.\",\n",
    "              \"Good things come to those who wait.\",\n",
    "              \"These watches cost $1500! \",\n",
    "              \"There are other fish in the sea.\",\n",
    "              \"The ball is in your court.\",\n",
    "              \"Mr. Smith Goes to Washington \",\n",
    "              \"Doogie Howser M.D.\"]"
   ]
  },
  {
   "cell_type": "code",
   "execution_count": 12,
   "metadata": {},
   "outputs": [],
   "source": [
    "count_vectorizer = CountVectorizer()\n",
    "\n",
    "frequency_term_matrix = count_vectorizer.fit_transform(train_text)"
   ]
  },
  {
   "cell_type": "code",
   "execution_count": 13,
   "metadata": {},
   "outputs": [
    {
     "data": {
      "text/plain": [
       "33"
      ]
     },
     "execution_count": 13,
     "metadata": {},
     "output_type": "execute_result"
    }
   ],
   "source": [
    "len(count_vectorizer.vocabulary_)"
   ]
  },
  {
   "cell_type": "code",
   "execution_count": 14,
   "metadata": {},
   "outputs": [
    {
     "data": {
      "text/plain": [
       "(7, 33)"
      ]
     },
     "execution_count": 14,
     "metadata": {},
     "output_type": "execute_result"
    }
   ],
   "source": [
    "frequency_term_matrix.shape"
   ]
  },
  {
   "cell_type": "code",
   "execution_count": 15,
   "metadata": {},
   "outputs": [
    {
     "data": {
      "text/plain": [
       "array([[0, 0, 0, 1, 1, 0, 0, 0, 0, 0, 0, 0, 1, 0, 2, 1, 0, 0, 0, 0, 1, 0,\n",
       "        0, 0, 0, 0, 1, 0, 0, 0, 0, 1, 0],\n",
       "       [0, 0, 0, 0, 0, 1, 0, 0, 0, 0, 0, 1, 0, 0, 0, 0, 0, 0, 0, 0, 0, 0,\n",
       "        0, 1, 1, 1, 0, 1, 0, 0, 1, 0, 0],\n",
       "       [1, 0, 0, 0, 0, 0, 1, 0, 0, 0, 0, 0, 0, 0, 0, 0, 0, 0, 0, 0, 0, 0,\n",
       "        1, 0, 0, 0, 0, 0, 0, 1, 0, 0, 0],\n",
       "       [0, 1, 0, 0, 0, 0, 0, 0, 0, 1, 0, 0, 0, 0, 1, 0, 0, 1, 1, 0, 1, 1,\n",
       "        0, 0, 0, 0, 0, 0, 0, 0, 0, 0, 0],\n",
       "       [0, 0, 1, 0, 0, 0, 0, 1, 0, 0, 0, 0, 0, 0, 1, 1, 0, 0, 0, 0, 1, 0,\n",
       "        0, 0, 0, 0, 0, 0, 0, 0, 0, 0, 1],\n",
       "       [0, 0, 0, 0, 0, 0, 0, 0, 0, 0, 1, 0, 0, 0, 0, 0, 1, 0, 0, 1, 0, 0,\n",
       "        0, 0, 0, 1, 0, 0, 1, 0, 0, 0, 0],\n",
       "       [0, 0, 0, 0, 0, 0, 0, 0, 1, 0, 0, 0, 0, 1, 0, 0, 0, 0, 0, 0, 0, 0,\n",
       "        0, 0, 0, 0, 0, 0, 0, 0, 0, 0, 0]], dtype=int64)"
      ]
     },
     "execution_count": 15,
     "metadata": {},
     "output_type": "execute_result"
    }
   ],
   "source": [
    "frequency_term_matrix.toarray()"
   ]
  },
  {
   "cell_type": "markdown",
   "metadata": {},
   "source": [
    "### Building the tf-idf matrix\n",
    "\n"
   ]
  },
  {
   "cell_type": "code",
   "execution_count": 41,
   "metadata": {},
   "outputs": [],
   "source": [
    "from sklearn.feature_extraction.text import TfidfTransformer\n",
    "\n",
    "tfidf_transformer = TfidfTransformer()"
   ]
  },
  {
   "cell_type": "code",
   "execution_count": 42,
   "metadata": {},
   "outputs": [
    {
     "data": {
      "text/plain": [
       "(7, 33)"
      ]
     },
     "execution_count": 42,
     "metadata": {},
     "output_type": "execute_result"
    }
   ],
   "source": [
    "tfidf_vector1 = tfidf_transformer.fit_transform(frequency_term_matrix)\n",
    "\n",
    "tfidf_vector1.shape"
   ]
  },
  {
   "cell_type": "code",
   "execution_count": 43,
   "metadata": {},
   "outputs": [
    {
     "data": {
      "text/plain": [
       "array([[0.        , 0.        , 0.        , 0.34908308, 0.34908308,\n",
       "        0.        , 0.        , 0.        , 0.        , 0.        ,\n",
       "        0.        , 0.        , 0.34908308, 0.        , 0.49536976,\n",
       "        0.28976893, 0.        , 0.        , 0.        , 0.        ,\n",
       "        0.24768488, 0.        , 0.        , 0.        , 0.        ,\n",
       "        0.        , 0.34908308, 0.        , 0.        , 0.        ,\n",
       "        0.        , 0.34908308, 0.        ],\n",
       "       [0.        , 0.        , 0.        , 0.        , 0.        ,\n",
       "        0.38665001, 0.        , 0.        , 0.        , 0.        ,\n",
       "        0.        , 0.38665001, 0.        , 0.        , 0.        ,\n",
       "        0.        , 0.        , 0.        , 0.        , 0.        ,\n",
       "        0.        , 0.        , 0.        , 0.38665001, 0.38665001,\n",
       "        0.32095271, 0.        , 0.38665001, 0.        , 0.        ,\n",
       "        0.38665001, 0.        , 0.        ],\n",
       "       [0.5       , 0.        , 0.        , 0.        , 0.        ,\n",
       "        0.        , 0.5       , 0.        , 0.        , 0.        ,\n",
       "        0.        , 0.        , 0.        , 0.        , 0.        ,\n",
       "        0.        , 0.        , 0.        , 0.        , 0.        ,\n",
       "        0.        , 0.        , 0.5       , 0.        , 0.        ,\n",
       "        0.        , 0.        , 0.        , 0.        , 0.5       ,\n",
       "        0.        , 0.        , 0.        ],\n",
       "       [0.        , 0.40801493, 0.        , 0.        , 0.        ,\n",
       "        0.        , 0.        , 0.        , 0.        , 0.40801493,\n",
       "        0.        , 0.        , 0.        , 0.        , 0.28949879,\n",
       "        0.        , 0.        , 0.40801493, 0.40801493, 0.        ,\n",
       "        0.28949879, 0.40801493, 0.        , 0.        , 0.        ,\n",
       "        0.        , 0.        , 0.        , 0.        , 0.        ,\n",
       "        0.        , 0.        , 0.        ],\n",
       "       [0.        , 0.        , 0.46146654, 0.        , 0.        ,\n",
       "        0.        , 0.        , 0.46146654, 0.        , 0.        ,\n",
       "        0.        , 0.        , 0.        , 0.        , 0.3274243 ,\n",
       "        0.38305686, 0.        , 0.        , 0.        , 0.        ,\n",
       "        0.3274243 , 0.        , 0.        , 0.        , 0.        ,\n",
       "        0.        , 0.        , 0.        , 0.        , 0.        ,\n",
       "        0.        , 0.        , 0.46146654],\n",
       "       [0.        , 0.        , 0.        , 0.        , 0.        ,\n",
       "        0.        , 0.        , 0.        , 0.        , 0.        ,\n",
       "        0.46180424, 0.        , 0.        , 0.        , 0.        ,\n",
       "        0.        , 0.46180424, 0.        , 0.        , 0.46180424,\n",
       "        0.        , 0.        , 0.        , 0.        , 0.        ,\n",
       "        0.38333718, 0.        , 0.        , 0.46180424, 0.        ,\n",
       "        0.        , 0.        , 0.        ],\n",
       "       [0.        , 0.        , 0.        , 0.        , 0.        ,\n",
       "        0.        , 0.        , 0.        , 0.70710678, 0.        ,\n",
       "        0.        , 0.        , 0.        , 0.70710678, 0.        ,\n",
       "        0.        , 0.        , 0.        , 0.        , 0.        ,\n",
       "        0.        , 0.        , 0.        , 0.        , 0.        ,\n",
       "        0.        , 0.        , 0.        , 0.        , 0.        ,\n",
       "        0.        , 0.        , 0.        ]])"
      ]
     },
     "execution_count": 43,
     "metadata": {},
     "output_type": "execute_result"
    }
   ],
   "source": [
    "tfidf_vector1.toarray()"
   ]
  },
  {
   "cell_type": "code",
   "execution_count": 44,
   "metadata": {},
   "outputs": [
    {
     "name": "stdout",
     "output_type": "stream",
     "text": [
      "[[0.         0.         0.         0.34908308 0.34908308 0.\n",
      "  0.         0.         0.         0.         0.         0.\n",
      "  0.34908308 0.         0.49536976 0.28976893 0.         0.\n",
      "  0.         0.         0.24768488 0.         0.         0.\n",
      "  0.         0.         0.34908308 0.         0.         0.\n",
      "  0.         0.34908308 0.        ]\n",
      " [0.         0.         0.         0.         0.         0.38665001\n",
      "  0.         0.         0.         0.         0.         0.38665001\n",
      "  0.         0.         0.         0.         0.         0.\n",
      "  0.         0.         0.         0.         0.         0.38665001\n",
      "  0.38665001 0.32095271 0.         0.38665001 0.         0.\n",
      "  0.38665001 0.         0.        ]\n",
      " [0.5        0.         0.         0.         0.         0.\n",
      "  0.5        0.         0.         0.         0.         0.\n",
      "  0.         0.         0.         0.         0.         0.\n",
      "  0.         0.         0.         0.         0.5        0.\n",
      "  0.         0.         0.         0.         0.         0.5\n",
      "  0.         0.         0.        ]\n",
      " [0.         0.40801493 0.         0.         0.         0.\n",
      "  0.         0.         0.         0.40801493 0.         0.\n",
      "  0.         0.         0.28949879 0.         0.         0.40801493\n",
      "  0.40801493 0.         0.28949879 0.40801493 0.         0.\n",
      "  0.         0.         0.         0.         0.         0.\n",
      "  0.         0.         0.        ]\n",
      " [0.         0.         0.46146654 0.         0.         0.\n",
      "  0.         0.46146654 0.         0.         0.         0.\n",
      "  0.         0.         0.3274243  0.38305686 0.         0.\n",
      "  0.         0.         0.3274243  0.         0.         0.\n",
      "  0.         0.         0.         0.         0.         0.\n",
      "  0.         0.         0.46146654]\n",
      " [0.         0.         0.         0.         0.         0.\n",
      "  0.         0.         0.         0.         0.46180424 0.\n",
      "  0.         0.         0.         0.         0.46180424 0.\n",
      "  0.         0.46180424 0.         0.         0.         0.\n",
      "  0.         0.38333718 0.         0.         0.46180424 0.\n",
      "  0.         0.         0.        ]\n",
      " [0.         0.         0.         0.         0.         0.\n",
      "  0.         0.         0.70710678 0.         0.         0.\n",
      "  0.         0.70710678 0.         0.         0.         0.\n",
      "  0.         0.         0.         0.         0.         0.\n",
      "  0.         0.         0.         0.         0.         0.\n",
      "  0.         0.         0.        ]]\n"
     ]
    }
   ],
   "source": [
    "print(tfidf_vector1.toarray())"
   ]
  },
  {
   "cell_type": "markdown",
   "metadata": {},
   "source": [
    "## TfidfVectorizer = CountVectorizer + TfidfTransformer"
   ]
  },
  {
   "cell_type": "code",
   "execution_count": 23,
   "metadata": {},
   "outputs": [],
   "source": [
    "from sklearn.feature_extraction.text import TfidfVectorizer\n",
    "\n",
    "tfidf_vectorizer = TfidfVectorizer()"
   ]
  },
  {
   "cell_type": "code",
   "execution_count": 45,
   "metadata": {},
   "outputs": [
    {
     "data": {
      "text/plain": [
       "{'bird': 3,\n",
       " 'in': 14,\n",
       " 'hand': 12,\n",
       " 'is': 15,\n",
       " 'worth': 31,\n",
       " 'two': 26,\n",
       " 'the': 20,\n",
       " 'bush': 4,\n",
       " 'good': 11,\n",
       " 'things': 23,\n",
       " 'come': 5,\n",
       " 'to': 25,\n",
       " 'those': 24,\n",
       " 'who': 30,\n",
       " 'wait': 27,\n",
       " 'these': 22,\n",
       " 'watches': 29,\n",
       " 'cost': 6,\n",
       " '1500': 0,\n",
       " 'there': 21,\n",
       " 'are': 1,\n",
       " 'other': 17,\n",
       " 'fish': 9,\n",
       " 'sea': 18,\n",
       " 'ball': 2,\n",
       " 'your': 32,\n",
       " 'court': 7,\n",
       " 'mr': 16,\n",
       " 'smith': 19,\n",
       " 'goes': 10,\n",
       " 'washington': 28,\n",
       " 'doogie': 8,\n",
       " 'howser': 13}"
      ]
     },
     "execution_count": 45,
     "metadata": {},
     "output_type": "execute_result"
    }
   ],
   "source": [
    "tfidf_vector2 = tfidf_vectorizer.fit_transform(train_text)\n",
    "\n",
    "tfidf_vectorizer.vocabulary_"
   ]
  },
  {
   "cell_type": "code",
   "execution_count": 46,
   "metadata": {},
   "outputs": [
    {
     "data": {
      "text/plain": [
       "(7, 33)"
      ]
     },
     "execution_count": 46,
     "metadata": {},
     "output_type": "execute_result"
    }
   ],
   "source": [
    "tfidf_vector2.shape"
   ]
  },
  {
   "cell_type": "code",
   "execution_count": 47,
   "metadata": {},
   "outputs": [
    {
     "data": {
      "text/plain": [
       "array([2.38629436, 2.38629436, 2.38629436, 2.38629436, 2.38629436,\n",
       "       2.38629436, 2.38629436, 2.38629436, 2.38629436, 2.38629436,\n",
       "       2.38629436, 2.38629436, 2.38629436, 2.38629436, 1.69314718,\n",
       "       1.98082925, 2.38629436, 2.38629436, 2.38629436, 2.38629436,\n",
       "       1.69314718, 2.38629436, 2.38629436, 2.38629436, 2.38629436,\n",
       "       1.98082925, 2.38629436, 2.38629436, 2.38629436, 2.38629436,\n",
       "       2.38629436, 2.38629436, 2.38629436])"
      ]
     },
     "execution_count": 47,
     "metadata": {},
     "output_type": "execute_result"
    }
   ],
   "source": [
    "tfidf_vectorizer.idf_"
   ]
  },
  {
   "cell_type": "code",
   "execution_count": 48,
   "metadata": {},
   "outputs": [
    {
     "data": {
      "text/plain": [
       "{'1500': 2.386294361119891,\n",
       " 'are': 2.386294361119891,\n",
       " 'ball': 2.386294361119891,\n",
       " 'bird': 2.386294361119891,\n",
       " 'bush': 2.386294361119891,\n",
       " 'come': 2.386294361119891,\n",
       " 'cost': 2.386294361119891,\n",
       " 'court': 2.386294361119891,\n",
       " 'doogie': 2.386294361119891,\n",
       " 'fish': 2.386294361119891,\n",
       " 'goes': 2.386294361119891,\n",
       " 'good': 2.386294361119891,\n",
       " 'hand': 2.386294361119891,\n",
       " 'howser': 2.386294361119891,\n",
       " 'in': 1.6931471805599454,\n",
       " 'is': 1.9808292530117262,\n",
       " 'mr': 2.386294361119891,\n",
       " 'other': 2.386294361119891,\n",
       " 'sea': 2.386294361119891,\n",
       " 'smith': 2.386294361119891,\n",
       " 'the': 1.6931471805599454,\n",
       " 'there': 2.386294361119891,\n",
       " 'these': 2.386294361119891,\n",
       " 'things': 2.386294361119891,\n",
       " 'those': 2.386294361119891,\n",
       " 'to': 1.9808292530117262,\n",
       " 'two': 2.386294361119891,\n",
       " 'wait': 2.386294361119891,\n",
       " 'washington': 2.386294361119891,\n",
       " 'watches': 2.386294361119891,\n",
       " 'who': 2.386294361119891,\n",
       " 'worth': 2.386294361119891,\n",
       " 'your': 2.386294361119891}"
      ]
     },
     "execution_count": 48,
     "metadata": {},
     "output_type": "execute_result"
    }
   ],
   "source": [
    "dict(zip(tfidf_vectorizer.get_feature_names(), tfidf_vectorizer.idf_))"
   ]
  },
  {
   "cell_type": "markdown",
   "metadata": {},
   "source": [
    "### Final scorings of each word from the other words in the vocabulary.\n",
    "* The scores are normalized to values between 0 and 1"
   ]
  },
  {
   "cell_type": "code",
   "execution_count": 49,
   "metadata": {},
   "outputs": [
    {
     "data": {
      "text/plain": [
       "array([[0.        , 0.        , 0.        , 0.34908308, 0.34908308,\n",
       "        0.        , 0.        , 0.        , 0.        , 0.        ,\n",
       "        0.        , 0.        , 0.34908308, 0.        , 0.49536976,\n",
       "        0.28976893, 0.        , 0.        , 0.        , 0.        ,\n",
       "        0.24768488, 0.        , 0.        , 0.        , 0.        ,\n",
       "        0.        , 0.34908308, 0.        , 0.        , 0.        ,\n",
       "        0.        , 0.34908308, 0.        ],\n",
       "       [0.        , 0.        , 0.        , 0.        , 0.        ,\n",
       "        0.38665001, 0.        , 0.        , 0.        , 0.        ,\n",
       "        0.        , 0.38665001, 0.        , 0.        , 0.        ,\n",
       "        0.        , 0.        , 0.        , 0.        , 0.        ,\n",
       "        0.        , 0.        , 0.        , 0.38665001, 0.38665001,\n",
       "        0.32095271, 0.        , 0.38665001, 0.        , 0.        ,\n",
       "        0.38665001, 0.        , 0.        ],\n",
       "       [0.5       , 0.        , 0.        , 0.        , 0.        ,\n",
       "        0.        , 0.5       , 0.        , 0.        , 0.        ,\n",
       "        0.        , 0.        , 0.        , 0.        , 0.        ,\n",
       "        0.        , 0.        , 0.        , 0.        , 0.        ,\n",
       "        0.        , 0.        , 0.5       , 0.        , 0.        ,\n",
       "        0.        , 0.        , 0.        , 0.        , 0.5       ,\n",
       "        0.        , 0.        , 0.        ],\n",
       "       [0.        , 0.40801493, 0.        , 0.        , 0.        ,\n",
       "        0.        , 0.        , 0.        , 0.        , 0.40801493,\n",
       "        0.        , 0.        , 0.        , 0.        , 0.28949879,\n",
       "        0.        , 0.        , 0.40801493, 0.40801493, 0.        ,\n",
       "        0.28949879, 0.40801493, 0.        , 0.        , 0.        ,\n",
       "        0.        , 0.        , 0.        , 0.        , 0.        ,\n",
       "        0.        , 0.        , 0.        ],\n",
       "       [0.        , 0.        , 0.46146654, 0.        , 0.        ,\n",
       "        0.        , 0.        , 0.46146654, 0.        , 0.        ,\n",
       "        0.        , 0.        , 0.        , 0.        , 0.3274243 ,\n",
       "        0.38305686, 0.        , 0.        , 0.        , 0.        ,\n",
       "        0.3274243 , 0.        , 0.        , 0.        , 0.        ,\n",
       "        0.        , 0.        , 0.        , 0.        , 0.        ,\n",
       "        0.        , 0.        , 0.46146654],\n",
       "       [0.        , 0.        , 0.        , 0.        , 0.        ,\n",
       "        0.        , 0.        , 0.        , 0.        , 0.        ,\n",
       "        0.46180424, 0.        , 0.        , 0.        , 0.        ,\n",
       "        0.        , 0.46180424, 0.        , 0.        , 0.46180424,\n",
       "        0.        , 0.        , 0.        , 0.        , 0.        ,\n",
       "        0.38333718, 0.        , 0.        , 0.46180424, 0.        ,\n",
       "        0.        , 0.        , 0.        ],\n",
       "       [0.        , 0.        , 0.        , 0.        , 0.        ,\n",
       "        0.        , 0.        , 0.        , 0.70710678, 0.        ,\n",
       "        0.        , 0.        , 0.        , 0.70710678, 0.        ,\n",
       "        0.        , 0.        , 0.        , 0.        , 0.        ,\n",
       "        0.        , 0.        , 0.        , 0.        , 0.        ,\n",
       "        0.        , 0.        , 0.        , 0.        , 0.        ,\n",
       "        0.        , 0.        , 0.        ]])"
      ]
     },
     "execution_count": 49,
     "metadata": {},
     "output_type": "execute_result"
    }
   ],
   "source": [
    "tfidf_vector2.toarray()"
   ]
  },
  {
   "cell_type": "code",
   "execution_count": 50,
   "metadata": {},
   "outputs": [
    {
     "name": "stdout",
     "output_type": "stream",
     "text": [
      "  (0, 3)\t0.3490830767264469\n",
      "  (0, 14)\t0.49536975552604884\n",
      "  (0, 12)\t0.3490830767264469\n",
      "  (0, 15)\t0.2897689326921819\n",
      "  (0, 31)\t0.3490830767264469\n",
      "  (0, 26)\t0.3490830767264469\n",
      "  (0, 20)\t0.24768487776302442\n",
      "  (0, 4)\t0.3490830767264469\n",
      "  (1, 11)\t0.386650005027498\n",
      "  (1, 23)\t0.386650005027498\n",
      "  (1, 5)\t0.386650005027498\n",
      "  (1, 25)\t0.32095270940344806\n",
      "  (1, 24)\t0.386650005027498\n",
      "  (1, 30)\t0.386650005027498\n",
      "  (1, 27)\t0.386650005027498\n",
      "  (2, 22)\t0.5\n",
      "  (2, 29)\t0.5\n",
      "  (2, 6)\t0.5\n",
      "  (2, 0)\t0.5\n",
      "  (3, 14)\t0.2894987873064995\n",
      "  (3, 20)\t0.2894987873064995\n",
      "  (3, 21)\t0.40801492725049476\n",
      "  (3, 1)\t0.40801492725049476\n",
      "  (3, 17)\t0.40801492725049476\n",
      "  (3, 9)\t0.40801492725049476\n",
      "  (3, 18)\t0.40801492725049476\n",
      "  (4, 14)\t0.3274243027464032\n",
      "  (4, 15)\t0.38305685676572565\n",
      "  (4, 20)\t0.3274243027464032\n",
      "  (4, 2)\t0.4614665377636916\n",
      "  (4, 32)\t0.4614665377636916\n",
      "  (4, 7)\t0.4614665377636916\n",
      "  (5, 25)\t0.38333717539523177\n",
      "  (5, 16)\t0.4618042361109319\n",
      "  (5, 19)\t0.4618042361109319\n",
      "  (5, 10)\t0.4618042361109319\n",
      "  (5, 28)\t0.4618042361109319\n",
      "  (6, 8)\t0.7071067811865476\n",
      "  (6, 13)\t0.7071067811865476\n"
     ]
    }
   ],
   "source": [
    "print(tfidf_vector2)"
   ]
  },
  {
   "cell_type": "code",
   "execution_count": 51,
   "metadata": {},
   "outputs": [
    {
     "name": "stdout",
     "output_type": "stream",
     "text": [
      "  (0, 31)\t0.34908307672644684\n",
      "  (0, 26)\t0.34908307672644684\n",
      "  (0, 20)\t0.2476848777630244\n",
      "  (0, 15)\t0.2897689326921819\n",
      "  (0, 14)\t0.4953697555260488\n",
      "  (0, 12)\t0.34908307672644684\n",
      "  (0, 4)\t0.34908307672644684\n",
      "  (0, 3)\t0.34908307672644684\n",
      "  (1, 30)\t0.386650005027498\n",
      "  (1, 27)\t0.386650005027498\n",
      "  (1, 25)\t0.32095270940344806\n",
      "  (1, 24)\t0.386650005027498\n",
      "  (1, 23)\t0.386650005027498\n",
      "  (1, 11)\t0.386650005027498\n",
      "  (1, 5)\t0.386650005027498\n",
      "  (2, 29)\t0.5\n",
      "  (2, 22)\t0.5\n",
      "  (2, 6)\t0.5\n",
      "  (2, 0)\t0.5\n",
      "  (3, 21)\t0.40801492725049476\n",
      "  (3, 20)\t0.2894987873064995\n",
      "  (3, 18)\t0.40801492725049476\n",
      "  (3, 17)\t0.40801492725049476\n",
      "  (3, 14)\t0.2894987873064995\n",
      "  (3, 9)\t0.40801492725049476\n",
      "  (3, 1)\t0.40801492725049476\n",
      "  (4, 32)\t0.4614665377636916\n",
      "  (4, 20)\t0.3274243027464032\n",
      "  (4, 15)\t0.38305685676572565\n",
      "  (4, 14)\t0.3274243027464032\n",
      "  (4, 7)\t0.4614665377636916\n",
      "  (4, 2)\t0.4614665377636916\n",
      "  (5, 28)\t0.4618042361109319\n",
      "  (5, 25)\t0.38333717539523177\n",
      "  (5, 19)\t0.4618042361109319\n",
      "  (5, 16)\t0.4618042361109319\n",
      "  (5, 10)\t0.4618042361109319\n",
      "  (6, 13)\t0.7071067811865476\n",
      "  (6, 8)\t0.7071067811865476\n"
     ]
    }
   ],
   "source": [
    "print(tfidf_vector1)"
   ]
  },
  {
   "cell_type": "code",
   "execution_count": null,
   "metadata": {},
   "outputs": [],
   "source": []
  }
 ],
 "metadata": {
  "kernelspec": {
   "display_name": "Python 3",
   "language": "python",
   "name": "python3"
  },
  "language_info": {
   "codemirror_mode": {
    "name": "ipython",
    "version": 3
   },
   "file_extension": ".py",
   "mimetype": "text/x-python",
   "name": "python",
   "nbconvert_exporter": "python",
   "pygments_lexer": "ipython3",
   "version": "3.7.1"
  }
 },
 "nbformat": 4,
 "nbformat_minor": 2
}
