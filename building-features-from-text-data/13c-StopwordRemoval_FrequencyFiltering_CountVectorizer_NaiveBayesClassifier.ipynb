{
 "cells": [
  {
   "cell_type": "code",
   "execution_count": 3,
   "metadata": {},
   "outputs": [],
   "source": [
    "import pandas as pd\n",
    "import numpy as np\n",
    "\n",
    "from sklearn.model_selection import train_test_split\n",
    "from sklearn.metrics import accuracy_score\n",
    "from sklearn.metrics import precision_score\n",
    "from sklearn.metrics import recall_score\n",
    "\n",
    "from sklearn.feature_extraction.text import CountVectorizer\n",
    "from sklearn.feature_extraction import text \n",
    "\n",
    "from sklearn.naive_bayes import GaussianNB\n",
    "\n",
    "from nltk.tokenize import word_tokenize\n",
    "from nltk.probability import FreqDist"
   ]
  },
  {
   "cell_type": "code",
   "execution_count": 4,
   "metadata": {},
   "outputs": [],
   "source": [
    "dbpedia_df = pd.read_csv('./datasets/dbpedia_csv/train.csv', \n",
    "                       skiprows=1, names = ['Label', 'Name', 'Text'])"
   ]
  },
  {
   "cell_type": "code",
   "execution_count": 5,
   "metadata": {},
   "outputs": [
    {
     "data": {
      "text/plain": [
       "(559999, 3)"
      ]
     },
     "execution_count": 5,
     "metadata": {},
     "output_type": "execute_result"
    }
   ],
   "source": [
    "dbpedia_df.shape"
   ]
  },
  {
   "cell_type": "code",
   "execution_count": 6,
   "metadata": {},
   "outputs": [
    {
     "data": {
      "text/plain": [
       "array([ 1,  2,  3,  4,  5,  6,  7,  8,  9, 10, 11, 12, 13, 14])"
      ]
     },
     "execution_count": 6,
     "metadata": {},
     "output_type": "execute_result"
    }
   ],
   "source": [
    "dbpedia_df['Label'].unique()"
   ]
  },
  {
   "cell_type": "code",
   "execution_count": 7,
   "metadata": {},
   "outputs": [],
   "source": [
    "dbpedia_df = dbpedia_df.sample(10000, replace=False)"
   ]
  },
  {
   "cell_type": "code",
   "execution_count": 8,
   "metadata": {},
   "outputs": [
    {
     "data": {
      "text/html": [
       "<div>\n",
       "<style scoped>\n",
       "    .dataframe tbody tr th:only-of-type {\n",
       "        vertical-align: middle;\n",
       "    }\n",
       "\n",
       "    .dataframe tbody tr th {\n",
       "        vertical-align: top;\n",
       "    }\n",
       "\n",
       "    .dataframe thead th {\n",
       "        text-align: right;\n",
       "    }\n",
       "</style>\n",
       "<table border=\"1\" class=\"dataframe\">\n",
       "  <thead>\n",
       "    <tr style=\"text-align: right;\">\n",
       "      <th></th>\n",
       "      <th>Label</th>\n",
       "      <th>Name</th>\n",
       "      <th>Text</th>\n",
       "    </tr>\n",
       "  </thead>\n",
       "  <tbody>\n",
       "    <tr>\n",
       "      <th>293816</th>\n",
       "      <td>8</td>\n",
       "      <td>Sheep Mountain (Flathead County Montana)</td>\n",
       "      <td>Sheep Mountain (8530 feet (2600 m)) is locate...</td>\n",
       "    </tr>\n",
       "    <tr>\n",
       "      <th>379389</th>\n",
       "      <td>10</td>\n",
       "      <td>Argyropelecus hemigymnus</td>\n",
       "      <td>Argyropelecus hemigymnus the half-naked hatch...</td>\n",
       "    </tr>\n",
       "    <tr>\n",
       "      <th>553602</th>\n",
       "      <td>14</td>\n",
       "      <td>Double Identity (novel)</td>\n",
       "      <td>Double Identity is a 2005 young adult novel b...</td>\n",
       "    </tr>\n",
       "    <tr>\n",
       "      <th>104503</th>\n",
       "      <td>3</td>\n",
       "      <td>Picaflor de los Andes</td>\n",
       "      <td>Víctor Alberto Gil Mallma (1930; Huancayo - J...</td>\n",
       "    </tr>\n",
       "    <tr>\n",
       "      <th>338288</th>\n",
       "      <td>9</td>\n",
       "      <td>Jerry City Ohio</td>\n",
       "      <td>Jerry City is a village in Wood County Ohio U...</td>\n",
       "    </tr>\n",
       "    <tr>\n",
       "      <th>244140</th>\n",
       "      <td>7</td>\n",
       "      <td>John Hosford House</td>\n",
       "      <td>The John Hosford House built in 1860 is an hi...</td>\n",
       "    </tr>\n",
       "    <tr>\n",
       "      <th>182565</th>\n",
       "      <td>5</td>\n",
       "      <td>Hunt Downer</td>\n",
       "      <td>Major General Huntington Blair Downer Jr. kno...</td>\n",
       "    </tr>\n",
       "    <tr>\n",
       "      <th>252037</th>\n",
       "      <td>7</td>\n",
       "      <td>Brea City Hall and Park</td>\n",
       "      <td>Brea City Hall and Park in Brea California wa...</td>\n",
       "    </tr>\n",
       "    <tr>\n",
       "      <th>98721</th>\n",
       "      <td>3</td>\n",
       "      <td>Christian Jacob (musician)</td>\n",
       "      <td>Christian Jacob is a lyrical jazz pianist. He...</td>\n",
       "    </tr>\n",
       "    <tr>\n",
       "      <th>188815</th>\n",
       "      <td>5</td>\n",
       "      <td>George Forbes (New Zealand politician)</td>\n",
       "      <td>George William Forbes (12 March 1869 – 17 May...</td>\n",
       "    </tr>\n",
       "  </tbody>\n",
       "</table>\n",
       "</div>"
      ],
      "text/plain": [
       "        Label                                      Name  \\\n",
       "293816      8  Sheep Mountain (Flathead County Montana)   \n",
       "379389     10                  Argyropelecus hemigymnus   \n",
       "553602     14                   Double Identity (novel)   \n",
       "104503      3                     Picaflor de los Andes   \n",
       "338288      9                           Jerry City Ohio   \n",
       "244140      7                        John Hosford House   \n",
       "182565      5                               Hunt Downer   \n",
       "252037      7                   Brea City Hall and Park   \n",
       "98721       3                Christian Jacob (musician)   \n",
       "188815      5    George Forbes (New Zealand politician)   \n",
       "\n",
       "                                                     Text  \n",
       "293816   Sheep Mountain (8530 feet (2600 m)) is locate...  \n",
       "379389   Argyropelecus hemigymnus the half-naked hatch...  \n",
       "553602   Double Identity is a 2005 young adult novel b...  \n",
       "104503   Víctor Alberto Gil Mallma (1930; Huancayo - J...  \n",
       "338288   Jerry City is a village in Wood County Ohio U...  \n",
       "244140   The John Hosford House built in 1860 is an hi...  \n",
       "182565   Major General Huntington Blair Downer Jr. kno...  \n",
       "252037   Brea City Hall and Park in Brea California wa...  \n",
       "98721    Christian Jacob is a lyrical jazz pianist. He...  \n",
       "188815   George William Forbes (12 March 1869 – 17 May...  "
      ]
     },
     "execution_count": 8,
     "metadata": {},
     "output_type": "execute_result"
    }
   ],
   "source": [
    "dbpedia_df.sample(10)"
   ]
  },
  {
   "cell_type": "code",
   "execution_count": 9,
   "metadata": {},
   "outputs": [
    {
     "data": {
      "text/plain": [
       "(10000, 3)"
      ]
     },
     "execution_count": 9,
     "metadata": {},
     "output_type": "execute_result"
    }
   ],
   "source": [
    "dbpedia_df.shape"
   ]
  },
  {
   "cell_type": "code",
   "execution_count": 10,
   "metadata": {},
   "outputs": [],
   "source": [
    "X = dbpedia_df['Text']\n",
    "\n",
    "Y = dbpedia_df['Label']"
   ]
  },
  {
   "cell_type": "code",
   "execution_count": 11,
   "metadata": {},
   "outputs": [],
   "source": [
    "def summarize_classification(y_test, y_pred):\n",
    "\n",
    "    acc = accuracy_score(y_test, y_pred, normalize=True)\n",
    "    num_acc = accuracy_score(y_test, y_pred, normalize=False)\n",
    "    prec = precision_score(y_test, y_pred, average='weighted')\n",
    "    recall = recall_score(y_test, y_pred, average='weighted')\n",
    "    \n",
    "    print(\"Length of testing data: \", len(y_test))\n",
    "    print(\"accuracy_count : \" , num_acc)\n",
    "    print(\"accuracy_score : \" , acc)\n",
    "    print(\"precision_score : \" , prec)\n",
    "    print(\"recall_score : \", recall)"
   ]
  },
  {
   "cell_type": "code",
   "execution_count": 12,
   "metadata": {},
   "outputs": [
    {
     "data": {
      "text/plain": [
       "503033"
      ]
     },
     "execution_count": 12,
     "metadata": {},
     "output_type": "execute_result"
    }
   ],
   "source": [
    "tokens = word_tokenize(\"\\n\".join(X.values))\n",
    "\n",
    "len(tokens)"
   ]
  },
  {
   "cell_type": "code",
   "execution_count": 13,
   "metadata": {},
   "outputs": [
    {
     "data": {
      "text/plain": [
       "FreqDist({'the': 23584, '.': 23365, 'in': 16237, 'of': 15558, 'is': 13472, 'a': 13075, 'and': 12741, '(': 7078, ')': 7048, 'was': 6816, ...})"
      ]
     },
     "execution_count": 13,
     "metadata": {},
     "output_type": "execute_result"
    }
   ],
   "source": [
    "freq = FreqDist(tokens)\n",
    "freq"
   ]
  },
  {
   "cell_type": "code",
   "execution_count": 14,
   "metadata": {},
   "outputs": [
    {
     "data": {
      "text/plain": [
       "491"
      ]
     },
     "execution_count": 14,
     "metadata": {},
     "output_type": "execute_result"
    }
   ],
   "source": [
    "frequent_words = []\n",
    "\n",
    "for key, value in freq.items():\n",
    "    if value >= 100:\n",
    "        frequent_words.append(key.lower())\n",
    "        \n",
    "len(frequent_words)"
   ]
  },
  {
   "cell_type": "code",
   "execution_count": 15,
   "metadata": {},
   "outputs": [
    {
     "data": {
      "text/plain": [
       "['columbia',\n",
       " '(',\n",
       " ')',\n",
       " 'was',\n",
       " 'an',\n",
       " 'american',\n",
       " 'company',\n",
       " 'that',\n",
       " 'from',\n",
       " '1994',\n",
       " 'to',\n",
       " '2002',\n",
       " '.',\n",
       " 'it',\n",
       " 'operated',\n",
       " 'as',\n",
       " 'the',\n",
       " 'third',\n",
       " 'name',\n",
       " 'of',\n",
       " 'early',\n",
       " 'studio',\n",
       " 'and',\n",
       " 'part',\n",
       " 'second']"
      ]
     },
     "execution_count": 15,
     "metadata": {},
     "output_type": "execute_result"
    }
   ],
   "source": [
    "frequent_words[:25]"
   ]
  },
  {
   "cell_type": "code",
   "execution_count": 16,
   "metadata": {},
   "outputs": [],
   "source": [
    "stop_words = text.ENGLISH_STOP_WORDS.union(frequent_words)"
   ]
  },
  {
   "cell_type": "code",
   "execution_count": 17,
   "metadata": {},
   "outputs": [
    {
     "name": "stderr",
     "output_type": "stream",
     "text": [
      "/anaconda3/lib/python3.7/site-packages/sklearn/feature_extraction/text.py:301: UserWarning: Your stop_words may be inconsistent with your preprocessing. Tokenizing the stop words generated tokens ['st'] not in stop_words.\n",
      "  'stop_words.' % sorted(inconsistent))\n"
     ]
    },
    {
     "data": {
      "text/plain": [
       "(10000, 47434)"
      ]
     },
     "execution_count": 17,
     "metadata": {},
     "output_type": "execute_result"
    }
   ],
   "source": [
    "count_vectorizer = CountVectorizer(stop_words=stop_words)\n",
    "\n",
    "feature_vector = count_vectorizer.fit_transform(X)\n",
    "\n",
    "feature_vector.shape"
   ]
  },
  {
   "cell_type": "code",
   "execution_count": 18,
   "metadata": {},
   "outputs": [],
   "source": [
    "X_dense = feature_vector.todense()"
   ]
  },
  {
   "cell_type": "code",
   "execution_count": 19,
   "metadata": {},
   "outputs": [
    {
     "data": {
      "text/plain": [
       "(10000, 47434)"
      ]
     },
     "execution_count": 19,
     "metadata": {},
     "output_type": "execute_result"
    }
   ],
   "source": [
    "X_dense.shape"
   ]
  },
  {
   "cell_type": "code",
   "execution_count": 20,
   "metadata": {},
   "outputs": [],
   "source": [
    "x_train, x_test, y_train, y_test = train_test_split(X_dense, Y, test_size = 0.2)"
   ]
  },
  {
   "cell_type": "code",
   "execution_count": 21,
   "metadata": {},
   "outputs": [],
   "source": [
    "clf = GaussianNB().fit(x_train, y_train)"
   ]
  },
  {
   "cell_type": "code",
   "execution_count": 22,
   "metadata": {},
   "outputs": [
    {
     "data": {
      "text/plain": [
       "array([13,  9, 13, ...,  7, 11,  5])"
      ]
     },
     "execution_count": 22,
     "metadata": {},
     "output_type": "execute_result"
    }
   ],
   "source": [
    "y_pred = clf.predict(x_test)\n",
    "y_pred"
   ]
  },
  {
   "cell_type": "code",
   "execution_count": 23,
   "metadata": {},
   "outputs": [
    {
     "name": "stdout",
     "output_type": "stream",
     "text": [
      "Length of testing data:  2000\n",
      "accuracy_count :  1397\n",
      "accuracy_score :  0.6985\n",
      "precision_score :  0.7009864007615241\n",
      "recall_score :  0.6985\n"
     ]
    }
   ],
   "source": [
    "summarize_classification(y_test, y_pred)"
   ]
  },
  {
   "cell_type": "code",
   "execution_count": null,
   "metadata": {},
   "outputs": [],
   "source": []
  }
 ],
 "metadata": {
  "kernelspec": {
   "display_name": "Python 3",
   "language": "python",
   "name": "python3"
  },
  "language_info": {
   "codemirror_mode": {
    "name": "ipython",
    "version": 3
   },
   "file_extension": ".py",
   "mimetype": "text/x-python",
   "name": "python",
   "nbconvert_exporter": "python",
   "pygments_lexer": "ipython3",
   "version": "3.7.1"
  }
 },
 "nbformat": 4,
 "nbformat_minor": 2
}
