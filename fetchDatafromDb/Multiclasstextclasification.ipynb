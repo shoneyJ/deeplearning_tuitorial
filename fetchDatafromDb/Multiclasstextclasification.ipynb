{
 "cells": [
  {
   "cell_type": "code",
   "execution_count": 2,
   "metadata": {},
   "outputs": [
    {
     "data": {
      "text/plain": [
       "\"abcdefghijklmnopqrstuvwxyzABCDEFGHIJKLMNOPQRSTUVWXYZ .,;'0123456789\""
      ]
     },
     "execution_count": 2,
     "metadata": {},
     "output_type": "execute_result"
    }
   ],
   "source": [
    "import unicodedata\n",
    "import string\n",
    "import pandas as pd\n",
    "import re\n",
    "import numpy as np\n",
    "\n",
    "import sklearn\n",
    "import matplotlib.pyplot as plt\n",
    "import seaborn as sns\n",
    "\n",
    "all_letters = string.ascii_letters + \" .,;'0123456789\"\n",
    "n_letters = len(all_letters)\n",
    "\n",
    "all_letters"
   ]
  },
  {
   "attachments": {},
   "cell_type": "markdown",
   "metadata": {},
   "source": [
    "Build Category dictionary, category and list of product name, shor description"
   ]
  },
  {
   "cell_type": "code",
   "execution_count": 3,
   "metadata": {},
   "outputs": [],
   "source": [
    "from elasticsearch import Elasticsearch\n",
    "client = Elasticsearch(\"http://172.17.212.35:9200\")\n",
    "resp = client.search(index=\"retromotion-indexer_development_products\",\n",
    "                     body={\"_source\":[\"descriptions\",\"descriptionsSource\",\"nameSource\",\"shortDescriptionSource\",\"categoriesSource\"],\n",
    "                           'size' : 65000,\n",
    "                           \"query\": {\"match_all\": {}}})"
   ]
  },
  {
   "cell_type": "code",
   "execution_count": 4,
   "metadata": {},
   "outputs": [],
   "source": [
    "df_eng = pd.DataFrame(columns=['name','sdesc','category','catlevel0','catlevel1','catlevel2','catlevel3','catlevel4','catlevel5'])"
   ]
  },
  {
   "cell_type": "code",
   "execution_count": 5,
   "metadata": {},
   "outputs": [],
   "source": [
    "def cleanStr(text):\n",
    "   \n",
    "    # remove numbers\n",
    "    # no_number_string = re.sub(r'\\d+','',lower_string)\n",
    "\n",
    "    # remove all punctuation except words and space\n",
    "    # text = re.sub(r'[^\\w\\s]','', lower_string)\n",
    "\n",
    "    # clean = re.compile('<.*?>')\n",
    "\n",
    "    # text = re.sub(clean,'',text)\n",
    "    text = re.sub('<[^>]*>', '', text)\n",
    "    emoticons = re.findall('(?::|;|=)(?:-)?(?:\\)|\\(|D|P)', text)\n",
    "    text = (re.sub('[\\W]+', ' ', text.lower()) + ' ' .join(emoticons).replace('-', ''))\n",
    "\n",
    "    return text\n"
   ]
  },
  {
   "cell_type": "code",
   "execution_count": 6,
   "metadata": {},
   "outputs": [
    {
     "ename": "AttributeError",
     "evalue": "'DataFrame' object has no attribute 'append'",
     "output_type": "error",
     "traceback": [
      "\u001b[0;31m---------------------------------------------------------------------------\u001b[0m",
      "\u001b[0;31mAttributeError\u001b[0m                            Traceback (most recent call last)",
      "\u001b[0;32m/tmp/ipykernel_3020/3646068641.py\u001b[0m in \u001b[0;36m?\u001b[0;34m()\u001b[0m\n\u001b[1;32m     57\u001b[0m \u001b[0;34m\u001b[0m\u001b[0m\n\u001b[1;32m     58\u001b[0m     \u001b[0;32mfor\u001b[0m \u001b[0mi\u001b[0m \u001b[0;32min\u001b[0m \u001b[0mrange\u001b[0m \u001b[0;34m(\u001b[0m\u001b[0;36m0\u001b[0m\u001b[0;34m,\u001b[0m\u001b[0;36m9\u001b[0m\u001b[0;34m-\u001b[0m\u001b[0mlen\u001b[0m\u001b[0;34m(\u001b[0m\u001b[0mlist_row\u001b[0m\u001b[0;34m)\u001b[0m\u001b[0;34m)\u001b[0m\u001b[0;34m:\u001b[0m\u001b[0;34m\u001b[0m\u001b[0;34m\u001b[0m\u001b[0m\n\u001b[1;32m     59\u001b[0m         \u001b[0mlist_row\u001b[0m\u001b[0;34m.\u001b[0m\u001b[0mappend\u001b[0m\u001b[0;34m(\u001b[0m\u001b[0mnp\u001b[0m\u001b[0;34m.\u001b[0m\u001b[0mnan\u001b[0m\u001b[0;34m)\u001b[0m\u001b[0;34m\u001b[0m\u001b[0;34m\u001b[0m\u001b[0m\n\u001b[1;32m     60\u001b[0m \u001b[0;34m\u001b[0m\u001b[0m\n\u001b[0;32m---> 61\u001b[0;31m     \u001b[0mdf_eng\u001b[0m\u001b[0;34m=\u001b[0m\u001b[0mdf_eng\u001b[0m\u001b[0;34m.\u001b[0m\u001b[0mappend\u001b[0m\u001b[0;34m(\u001b[0m\u001b[0mpd\u001b[0m\u001b[0;34m.\u001b[0m\u001b[0mSeries\u001b[0m\u001b[0;34m(\u001b[0m\u001b[0mlist_row\u001b[0m\u001b[0;34m,\u001b[0m \u001b[0mindex\u001b[0m\u001b[0;34m=\u001b[0m\u001b[0mdf_eng\u001b[0m\u001b[0;34m.\u001b[0m\u001b[0mcolumns\u001b[0m\u001b[0;34m[\u001b[0m\u001b[0;34m:\u001b[0m\u001b[0mlen\u001b[0m\u001b[0;34m(\u001b[0m\u001b[0mlist_row\u001b[0m\u001b[0;34m)\u001b[0m\u001b[0;34m]\u001b[0m\u001b[0;34m,\u001b[0m\u001b[0mignore_index\u001b[0m\u001b[0;34m=\u001b[0m\u001b[0;32mTrue\u001b[0m\u001b[0;34m)\u001b[0m\u001b[0;34m)\u001b[0m\u001b[0;34m\u001b[0m\u001b[0;34m\u001b[0m\u001b[0m\n\u001b[0m\u001b[1;32m     62\u001b[0m     \u001b[0;31m# df_eng.loc[len(df_eng)] = list_row\u001b[0m\u001b[0;34m\u001b[0m\u001b[0;34m\u001b[0m\u001b[0m\n\u001b[1;32m     63\u001b[0m \u001b[0;34m\u001b[0m\u001b[0m\n",
      "\u001b[0;32m~/dev/.venv/lib/python3.10/site-packages/pandas/core/generic.py\u001b[0m in \u001b[0;36m?\u001b[0;34m(self, name)\u001b[0m\n\u001b[1;32m   5985\u001b[0m             \u001b[0;32mand\u001b[0m \u001b[0mname\u001b[0m \u001b[0;32mnot\u001b[0m \u001b[0;32min\u001b[0m \u001b[0mself\u001b[0m\u001b[0;34m.\u001b[0m\u001b[0m_accessors\u001b[0m\u001b[0;34m\u001b[0m\u001b[0;34m\u001b[0m\u001b[0m\n\u001b[1;32m   5986\u001b[0m             \u001b[0;32mand\u001b[0m \u001b[0mself\u001b[0m\u001b[0;34m.\u001b[0m\u001b[0m_info_axis\u001b[0m\u001b[0;34m.\u001b[0m\u001b[0m_can_hold_identifiers_and_holds_name\u001b[0m\u001b[0;34m(\u001b[0m\u001b[0mname\u001b[0m\u001b[0;34m)\u001b[0m\u001b[0;34m\u001b[0m\u001b[0;34m\u001b[0m\u001b[0m\n\u001b[1;32m   5987\u001b[0m         ):\n\u001b[1;32m   5988\u001b[0m             \u001b[0;32mreturn\u001b[0m \u001b[0mself\u001b[0m\u001b[0;34m[\u001b[0m\u001b[0mname\u001b[0m\u001b[0;34m]\u001b[0m\u001b[0;34m\u001b[0m\u001b[0;34m\u001b[0m\u001b[0m\n\u001b[0;32m-> 5989\u001b[0;31m         \u001b[0;32mreturn\u001b[0m \u001b[0mobject\u001b[0m\u001b[0;34m.\u001b[0m\u001b[0m__getattribute__\u001b[0m\u001b[0;34m(\u001b[0m\u001b[0mself\u001b[0m\u001b[0;34m,\u001b[0m \u001b[0mname\u001b[0m\u001b[0;34m)\u001b[0m\u001b[0;34m\u001b[0m\u001b[0;34m\u001b[0m\u001b[0m\n\u001b[0m",
      "\u001b[0;31mAttributeError\u001b[0m: 'DataFrame' object has no attribute 'append'"
     ]
    }
   ],
   "source": [
    "name_en=[]\n",
    "name_de=[]\n",
    "\n",
    "sdesc_en=[]\n",
    "sdesc_de=[]\n",
    "\n",
    "desc_en=[]\n",
    "desc_de=[]\n",
    "\n",
    "cat_en=[]\n",
    "cat_de=[]\n",
    "\n",
    "catpath_en=[]\n",
    "catpath_de=[]\n",
    "\n",
    "for hit in resp['hits']['hits']:\n",
    "    list_row =[]\n",
    "    for name in hit['_source']['nameSource']:\n",
    "        if (name[\"language\"]==\"en\"):\n",
    "            list_row.append(cleanStr(name[\"value\"]))\n",
    "        else:\n",
    "            name_de.append(name[\"value\"])\n",
    "    \n",
    "    for sdesc in hit['_source']['shortDescriptionSource']:\n",
    "        if (sdesc[\"language\"]==\"en\"):\n",
    "            list_row.append(cleanStr(sdesc[\"value\"]))\n",
    "        else:\n",
    "            sdesc_de.append(sdesc[\"value\"])\n",
    "\n",
    "    # for desc in hit['_source']['descriptionsSource']:\n",
    "    #     if (desc[\"language\"]==\"en\"):\n",
    "    #         desc_en.append(readHtml(desc[\"value\"]))\n",
    "    #     else:\n",
    "    #         desc_de.append(desc[\"value\"])\n",
    "    \n",
    "    for cats in hit['_source']['categoriesSource']:\n",
    "        if (cats[\"language\"]==\"en\"):\n",
    "            list_row.append(cleanStr(cats[\"label\"]))\n",
    "        else:\n",
    "            desc_de.append(cats[\"label\"])\n",
    "\n",
    "        if (cats[\"language\"]==\"en\"):\n",
    "            categories =cats[\"path\"].split('/')\n",
    "            i =0\n",
    "            catls=[]\n",
    "            for category in categories:\n",
    "\n",
    "                list_row.append(cleanStr(category))\n",
    "                i= i+1\n",
    "            \n",
    "        else:\n",
    "            catpath_de.append(cats[\"path\"])\n",
    "    \n",
    "    # new_row = pd.DataFrame({'name':_name, 'sdesc':_sdesc, 'category':_cat_en }, index=[0])\n",
    "\n",
    "    # pd.concat([new_row,df_eng.loc[:]]).reset_index(drop=True)\n",
    "\n",
    "    for i in range (0,9-len(list_row)):\n",
    "        list_row.append(np.nan)\n",
    "\n",
    "    df_eng=df_eng.append(pd.Series(list_row, index=df_eng.columns[:len(list_row)],ignore_index=True))\n",
    "    # df_eng.loc[len(df_eng)] = list_row\n",
    "\n"
   ]
  },
  {
   "cell_type": "code",
   "execution_count": null,
   "metadata": {},
   "outputs": [
    {
     "data": {
      "text/html": [
       "<div>\n",
       "<style scoped>\n",
       "    .dataframe tbody tr th:only-of-type {\n",
       "        vertical-align: middle;\n",
       "    }\n",
       "\n",
       "    .dataframe tbody tr th {\n",
       "        vertical-align: top;\n",
       "    }\n",
       "\n",
       "    .dataframe thead th {\n",
       "        text-align: right;\n",
       "    }\n",
       "</style>\n",
       "<table border=\"1\" class=\"dataframe\">\n",
       "  <thead>\n",
       "    <tr style=\"text-align: right;\">\n",
       "      <th></th>\n",
       "      <th>name</th>\n",
       "      <th>sdesc</th>\n",
       "      <th>category</th>\n",
       "      <th>catlevel0</th>\n",
       "      <th>catlevel1</th>\n",
       "      <th>catlevel2</th>\n",
       "      <th>catlevel3</th>\n",
       "      <th>catlevel4</th>\n",
       "      <th>catlevel5</th>\n",
       "    </tr>\n",
       "  </thead>\n",
       "  <tbody>\n",
       "    <tr>\n",
       "      <th>0</th>\n",
       "      <td>denso dtm82363 thermostat coolant</td>\n",
       "      <td>thermostat coolant</td>\n",
       "      <td>thermostat</td>\n",
       "      <td>sparepart</td>\n",
       "      <td>cooling system</td>\n",
       "      <td>thermostat</td>\n",
       "      <td>NaN</td>\n",
       "      <td>NaN</td>\n",
       "      <td>NaN</td>\n",
       "    </tr>\n",
       "    <tr>\n",
       "      <th>1</th>\n",
       "      <td>zf 1043 010 297 automatic transmission</td>\n",
       "      <td>automatic transmission</td>\n",
       "      <td>automatic transmission</td>\n",
       "      <td>sparepart</td>\n",
       "      <td>transmission</td>\n",
       "      <td>automatic transmission</td>\n",
       "      <td>automatic transmission</td>\n",
       "      <td>NaN</td>\n",
       "      <td>NaN</td>\n",
       "    </tr>\n",
       "    <tr>\n",
       "      <th>2</th>\n",
       "      <td>zf 1060 040 003 automatic transmission</td>\n",
       "      <td>automatic transmission</td>\n",
       "      <td>automatic transmission</td>\n",
       "      <td>sparepart</td>\n",
       "      <td>transmission</td>\n",
       "      <td>automatic transmission</td>\n",
       "      <td>automatic transmission</td>\n",
       "      <td>NaN</td>\n",
       "      <td>NaN</td>\n",
       "    </tr>\n",
       "    <tr>\n",
       "      <th>3</th>\n",
       "      <td>vaico v10 0131 camshaft</td>\n",
       "      <td>camshaft</td>\n",
       "      <td>camshaft</td>\n",
       "      <td>sparepart</td>\n",
       "      <td>engine</td>\n",
       "      <td>engine timing</td>\n",
       "      <td>camshaft</td>\n",
       "      <td>NaN</td>\n",
       "      <td>NaN</td>\n",
       "    </tr>\n",
       "    <tr>\n",
       "      <th>4</th>\n",
       "      <td>vaico v26 0302 track control arm</td>\n",
       "      <td>track control arm</td>\n",
       "      <td>track control arm</td>\n",
       "      <td>sparepart</td>\n",
       "      <td>powertrain suspension</td>\n",
       "      <td>wheel suspension</td>\n",
       "      <td>track control arm</td>\n",
       "      <td>NaN</td>\n",
       "      <td>NaN</td>\n",
       "    </tr>\n",
       "  </tbody>\n",
       "</table>\n",
       "</div>"
      ],
      "text/plain": [
       "                                     name                   sdesc  \\\n",
       "0       denso dtm82363 thermostat coolant      thermostat coolant   \n",
       "1  zf 1043 010 297 automatic transmission  automatic transmission   \n",
       "2  zf 1060 040 003 automatic transmission  automatic transmission   \n",
       "3                 vaico v10 0131 camshaft                camshaft   \n",
       "4        vaico v26 0302 track control arm       track control arm   \n",
       "\n",
       "                 category  catlevel0              catlevel1  \\\n",
       "0              thermostat  sparepart         cooling system   \n",
       "1  automatic transmission  sparepart           transmission   \n",
       "2  automatic transmission  sparepart           transmission   \n",
       "3                camshaft  sparepart                 engine   \n",
       "4       track control arm  sparepart  powertrain suspension   \n",
       "\n",
       "                catlevel2               catlevel3  catlevel4  catlevel5  \n",
       "0              thermostat                     NaN        NaN        NaN  \n",
       "1  automatic transmission  automatic transmission        NaN        NaN  \n",
       "2  automatic transmission  automatic transmission        NaN        NaN  \n",
       "3           engine timing                camshaft        NaN        NaN  \n",
       "4        wheel suspension       track control arm        NaN        NaN  "
      ]
     },
     "execution_count": 7,
     "metadata": {},
     "output_type": "execute_result"
    }
   ],
   "source": [
    "df_eng.head()"
   ]
  },
  {
   "cell_type": "code",
   "execution_count": null,
   "metadata": {},
   "outputs": [],
   "source": [
    "df_category = df_eng.groupby('category')"
   ]
  },
  {
   "cell_type": "code",
   "execution_count": null,
   "metadata": {},
   "outputs": [
    {
     "data": {
      "text/plain": [
       "1        zf 1043 010 297 automatic transmission\n",
       "2        zf 1060 040 003 automatic transmission\n",
       "19       zf 1043 010 562 automatic transmission\n",
       "20       zf 1050 012 014 automatic transmission\n",
       "37       zf 1043 000 224 automatic transmission\n",
       "                          ...                  \n",
       "22275    zf 1043 010 644 automatic transmission\n",
       "22276    zf 1043 010 670 automatic transmission\n",
       "22310    zf 1060 030 049 automatic transmission\n",
       "22320    zf 1043 010 373 automatic transmission\n",
       "22321    zf 1050 020 026 automatic transmission\n",
       "Name: name, Length: 492, dtype: object"
      ]
     },
     "execution_count": 9,
     "metadata": {},
     "output_type": "execute_result"
    }
   ],
   "source": [
    "df_category.get_group('automatic transmission')['name']\n",
    "\n"
   ]
  },
  {
   "cell_type": "code",
   "execution_count": null,
   "metadata": {},
   "outputs": [
    {
     "name": "stdout",
     "output_type": "stream",
     "text": [
      "['accelerator cable', 'accessory kit', 'actuator', 'adapter cable', 'adaptor', 'additional water pump', 'adjust screw', 'aerial', 'aerial head', 'air 47 electric horn', 'air conditioning', 'air filter', 'air horn', 'air mass sensor', 'air pressure sensor', 'air quality sensor', 'air supply', 'alternator', 'alternator freewheel clutch', 'alternator regulator', 'anti friction bearing', 'antifreeze', 'assortment box', 'automatic circuit breaker', 'automatic transmission', 'automatic transmission oil', 'auxiliary indicator', 'ball head', 'ball joint', 'base', 'battery post clamp', 'bearing', 'bearing bush', 'bellow', 'bellow set', 'belt drive', 'belt pulley', 'belt pulley set', 'belt tensioner', 'big end bearings', 'bolt', 'bonnet cable', 'bonnet lock', 'boost pressure control valve', 'bracket', 'brake caliper', 'brake caliper axle kit', 'brake disc', 'brake drum', 'brake hose', 'brake light switch', 'brake master cylinder', 'brake pad set', 'brake set', 'brake shoe set', 'brake system', 'breather hose', 'breather valve', 'buffer', 'bulb', 'bulb socket', 'bulbs assortment', 'busbar', 'bush', 'cable', 'cable adapter', 'cable connector', 'cable connector kit', 'cable repair set', 'cable tie', 'camshaft', 'camshaft adjuster', 'camshaft bushes', 'camshaft kit', 'cap', 'carrier', 'centering bush', 'central electric', 'central slave cylinder', 'centre rod assembly', 'chain', 'chain set', 'chain tensioner', 'change over valve', 'charcoal filter valve', 'charger', 'charger intake hose', 'cigarette lighter', 'circlip', 'clamp', 'clamping clip', 'clip', 'clockspring', 'clutch', 'clutch cable', 'clutch disc', 'clutch hose', 'clutch kit', 'clutch pedal pad', 'clutch pressure plate', 'coil spring', 'coiled cable', 'combination rearlight', 'compressed air system', 'compressor', 'condenser', 'contact breaker', 'contact pin', 'contact sleeve', 'control', 'control arm 47 trailing arm bush', 'control element', 'control lamp', 'control stalk', 'control unit', 'control valve', 'coolant flange', 'coolant tube', 'cooler module', 'cooling system', 'corrugated pipe', 'cover', 'cowling', 'crankcase', 'crankshaft drive', 'crimping pliers handle', 'crimping pliers insert', 'cupholder', 'cylinder head', 'cylinder sleeve', 'daytime running light', 'daytime running light set', 'deflection 47 guide pulley', 'diffusing lens', 'distributor', 'distributor cap', 'door catch', 'door handle', 'door seal', 'drag link end', 'drive arm', 'drive shaft', 'dryer', 'dust cover kit', 'earth strap', 'egr valve', 'electric kit', 'electric motor', 'engine mounting', 'engine oil', 'engine timing', 'evaporator', 'expansion tank', 'expansion valve', 'eyelid', 'fan', 'fan wheel', 'filter', 'filter set', 'final drive', 'finger follower', 'flange', 'flaring', 'flasher unit', 'flywheel', 'fog light', 'frame', 'fuel feed unit', 'fuel filter', 'fuel hose', 'fuel pump', 'fuel supply system', 'fuel tank', 'funnel', 'fuse', 'fuse box', 'fuse holder', 'fuse kit', 'gas spring', 'gasket', 'gasket 47 seal', 'gasket set', 'gear', 'glow plug', 'grommet', 'guide sleeve', 'guide sleeve kit', 'guides', 'handle', 'harness', 'hazard light switch', 'hazard lights relay', 'headlight', 'headlight cleaning system', 'headlight set', 'heat exchanger', 'heat shield', 'heating', 'heatshrink tube', 'high 47 low pressure line', 'high pressure line', 'high pressure pump', 'hinge', 'holder', 'holder set', 'holding bracket', 'holding clamp', 'hose', 'housing', 'hydraulic filter', 'hydraulic filter set', 'hydraulic hose', 'hydraulic pump', 'idle control valve', 'ignition 47 starter switch', 'ignition cable', 'ignition cable kit', 'ignition coil', 'ignition coil unit', 'impeller', 'indicator', 'indicator set', 'injector', 'injector nozzle', 'insert', 'insulating tape', 'intake hose', 'intake manifold', 'intercooler', 'interior blower', 'interior light', 'intermediate bearing', 'jack support plate', 'joint', 'joint kit', 'knock sensor', 'lambda sensor', 'lens', 'licence plate light', 'link', 'link set', 'linkage damper', 'lock cylinder', 'lock cylinder kit', 'low pressure line', 'lubricating pipe', 'lubrication', 'magnetic clutch', 'main bearings', 'manual transmission', 'master cylinder', 'mixture formation', 'mounting', 'mounting bracket', 'mounting kit', 'multifunctional relay', 'non return valve', 'nox sensor', 'o ring set', 'oil cooler', 'oil dipstick', 'oil filter', 'oil pressure switch', 'oil pump', 'oil seal', 'oil trap', 'outlet valve', 'parts kit', 'parts set', 'pedal pad', 'pedal travel sensor', 'pipe', 'pipe connector', 'piston', 'piston ring kit', 'plug', 'plug distributor', 'plug housing', 'pre resistor', 'pressure control valve', 'pressure converter', 'pressure switch', 'propshaft', 'protective cap 47 bellow', 'pulley', 'pulley bolt', 'pulley set', 'pump', 'radiator', 'radiator hose', 'radiator mounting', 'rain sensor', 'reading light', 'rear fog light', 'reflector', 'reflex reflector', 'regulating valve', 'regulator', 'relay', 'release tools', 'releaser', 'repair kit', 'repair set', 'resistor', 'reverse light', 'rocker 47 tappet', 'rocker arm shaft', 'rod 47 strut', 'rod assembly', 'roller guide', 'rotating beacon', 'rotor', 'rpm sensor', 'rubber buffer', 'safety clamp', 'screw', 'screw plug', 'seal', 'seal set', 'sealing cap', 'sealing plug', 'searchlight', 'secondary air pump', 'selector 47 shift rod', 'sender unit', 'sensor', 'sensor ring', 'shaft seal', 'shift console', 'shift valve', 'shock absorber', 'side marker light', 'silencing material', 'skid plate', 'slave cylinder', 'sleeve', 'small end bushes', 'socket', 'socket adapter', 'spark plug', 'spiral hose', 'splash panel', 'split anchor', 'spotlight', 'spotlight set', 'spring', 'spring cap', 'spring mounting', 'spring pack', 'stabiliser mounting', 'stabiliser set', 'starter', 'starter battery', 'steering', 'steering angle sensor', 'steering arm', 'steering column', 'steering column switch', 'steering gear', 'steering linkage', 'steering lock', 'stub axle', 'support', 'supporting ring', 'suspension', 'suspension kit', 'suspension sphere', 'suspension strut', 'sway bar', 'switch', 'switch unit', 'tacho shaft', 'temperature switch', 'tensioner', 'tensioner guide', 'tensioner lever', 'tensioner pulley', 'testing unit', 'thermostat', 'thermostat housing', 'throttle body', 'thrust piece', 'thrust washer', 'tie rod', 'tie rod axle joint', 'tie rod end', 'timing belt', 'timing belt set', 'timing chain', 'timing chain kit', 'tools', 'top strut mounting', 'track control arm', 'track widening', 'transmission oil', 'tripod hub', 'tyres', 'v belt', 'v ribbed belt set', 'v ribbed belts', 'vacuum control valve', 'vacuum hose', 'vacuum pump', 'valve', 'valve seat', 'ventilation', 'ventilation grille', 'vibration damper', 'warning contact', 'washer', 'washer fluid jet', 'washer fluid tank', 'water circulaton pump', 'water pump', 'water pump timing belt set', 'wet sump', 'wheel bearing', 'wheel bearing kit', 'wheel bolt', 'wheel brake cylinder', 'wheel hub', 'wheel nut', 'wheel sensor', 'wheel stud', 'wheel suspension', 'window regulator', 'wiper arm', 'wiper bearing', 'wiper blade', 'wiper blade rubber', 'wiper linkage', 'wiper motor', 'worklight']\n"
     ]
    }
   ],
   "source": [
    "# extract keys from groups\n",
    "keys =df_category.groups.keys() \n",
    "# for i in keys:\n",
    "#     print(category.get_group(i))\n",
    "#     print('\\n')\n",
    "\n",
    "    # Display result\n",
    "\n",
    "all_categories=list(keys)\n",
    "\n",
    "print (all_categories)"
   ]
  },
  {
   "attachments": {},
   "cell_type": "markdown",
   "metadata": {},
   "source": [
    "#### Turning product Names into Tensors\n",
    "        \t    \n",
    "Represent each name in one-hot encoded form (1 for the position of the letter, 0 elsewhere)\n",
    "\n",
    "To make a word we join a bunch of those into a 2D matrix <line_length x 1 x n_letters>.\n",
    "That extra 1 dimension is because PyTorch assumes everything is in batches - we're just using a batch size of 1 here."
   ]
  },
  {
   "cell_type": "code",
   "execution_count": null,
   "metadata": {},
   "outputs": [],
   "source": [
    "import torch"
   ]
  },
  {
   "cell_type": "code",
   "execution_count": null,
   "metadata": {},
   "outputs": [],
   "source": [
    "def letterToTensor(letter):\n",
    "    \n",
    "    tensor = torch.zeros(1, n_letters)\n",
    "    tensor[0][all_letters.find(letter)] = 1\n",
    "    \n",
    "    return tensor"
   ]
  },
  {
   "cell_type": "code",
   "execution_count": null,
   "metadata": {},
   "outputs": [
    {
     "name": "stdout",
     "output_type": "stream",
     "text": [
      "tensor([[1., 0., 0., 0., 0., 0., 0., 0., 0., 0., 0., 0., 0., 0., 0., 0., 0., 0.,\n",
      "         0., 0., 0., 0., 0., 0., 0., 0., 0., 0., 0., 0., 0., 0., 0., 0., 0., 0.,\n",
      "         0., 0., 0., 0., 0., 0., 0., 0., 0., 0., 0., 0., 0., 0., 0., 0., 0., 0.,\n",
      "         0., 0., 0., 0., 0., 0., 0., 0., 0., 0., 0., 0., 0.]])\n"
     ]
    }
   ],
   "source": [
    "print(letterToTensor('a'))"
   ]
  },
  {
   "cell_type": "code",
   "execution_count": 1,
   "metadata": {},
   "outputs": [
    {
     "ename": "NameError",
     "evalue": "name 'nameToTensor' is not defined",
     "output_type": "error",
     "traceback": [
      "\u001b[0;31m---------------------------------------------------------------------------\u001b[0m",
      "\u001b[0;31mNameError\u001b[0m                                 Traceback (most recent call last)",
      "Cell \u001b[0;32mIn[1], line 1\u001b[0m\n\u001b[0;32m----> 1\u001b[0m p_tensor \u001b[39m=\u001b[39m nameToTensor(\u001b[39m'\u001b[39m\u001b[39mdenso\u001b[39m\u001b[39m'\u001b[39m)\n\u001b[1;32m      3\u001b[0m p_tensor\u001b[39m.\u001b[39msize()\n",
      "\u001b[0;31mNameError\u001b[0m: name 'nameToTensor' is not defined"
     ]
    }
   ],
   "source": [
    "p_tensor = nameToTensor('denso')\n",
    "\n",
    "p_tensor.size()"
   ]
  },
  {
   "cell_type": "code",
   "execution_count": 22,
   "metadata": {},
   "outputs": [
    {
     "data": {
      "text/plain": [
       "tensor([[[0., 0., 0.,  ..., 0., 0., 0.]],\n",
       "\n",
       "        [[0., 0., 0.,  ..., 0., 0., 0.]],\n",
       "\n",
       "        [[0., 0., 0.,  ..., 0., 0., 0.]],\n",
       "\n",
       "        ...,\n",
       "\n",
       "        [[1., 0., 0.,  ..., 0., 0., 0.]],\n",
       "\n",
       "        [[0., 0., 0.,  ..., 0., 0., 0.]],\n",
       "\n",
       "        [[0., 0., 0.,  ..., 0., 0., 0.]]])"
      ]
     },
     "execution_count": 22,
     "metadata": {},
     "output_type": "execute_result"
    }
   ],
   "source": [
    "p_tensor"
   ]
  },
  {
   "cell_type": "code",
   "execution_count": 15,
   "metadata": {},
   "outputs": [],
   "source": [
    "import torch.nn as nn\n",
    "\n",
    "class RNN(nn.Module):\n",
    "    \n",
    "    def __init__(self, input_size, hidden_size, output_size):\n",
    "        \n",
    "        super(RNN, self).__init__()\n",
    "\n",
    "        self.hidden_size = hidden_size\n",
    "\n",
    "        self.i2h = nn.Linear(input_size + hidden_size, hidden_size)\n",
    "        \n",
    "        self.i2o = nn.Linear(input_size + hidden_size, output_size)\n",
    "        \n",
    "        self.softmax = nn.LogSoftmax(dim=1)\n",
    "\n",
    "    def forward(self, input, hidden):\n",
    "        combined = torch.cat((input, hidden), 1)\n",
    "        \n",
    "        hidden = self.i2h(combined)\n",
    "        \n",
    "        output = self.i2o(combined)\n",
    "        output = self.softmax(output)\n",
    "        \n",
    "        return output, hidden\n",
    "\n",
    "    def initHidden(self):\n",
    "        return torch.zeros(1, self.hidden_size)"
   ]
  },
  {
   "cell_type": "code",
   "execution_count": 16,
   "metadata": {},
   "outputs": [],
   "source": [
    "n_hidden = 256\n",
    "n_category = len(category)\n",
    "\n",
    "rnn = RNN(n_letters, n_hidden, n_category)"
   ]
  },
  {
   "cell_type": "code",
   "execution_count": 17,
   "metadata": {},
   "outputs": [
    {
     "name": "stdout",
     "output_type": "stream",
     "text": [
      "output size = torch.Size([1, 17])\n",
      "next_hidden size = torch.Size([1, 256])\n"
     ]
    }
   ],
   "source": [
    "inp = letterToTensor('C')\n",
    "\n",
    "hidden = torch.zeros(1, n_hidden)\n",
    "\n",
    "output, next_hidden = rnn(inp, hidden)\n",
    "\n",
    "print('output size =', output.size())\n",
    "print('next_hidden size =', next_hidden.size())"
   ]
  },
  {
   "cell_type": "code",
   "execution_count": null,
   "metadata": {},
   "outputs": [],
   "source": [
    "inp = nameToTensor('denso dtm82363 thermostat coolant')\n",
    "\n",
    "hidden = torch.zeros(1, n_hidden)\n",
    "\n",
    "output, next_hidden = rnn(inp[0], hidden)"
   ]
  },
  {
   "cell_type": "code",
   "execution_count": null,
   "metadata": {},
   "outputs": [],
   "source": [
    "print(next_hidden)"
   ]
  },
  {
   "cell_type": "code",
   "execution_count": 19,
   "metadata": {},
   "outputs": [
    {
     "name": "stdout",
     "output_type": "stream",
     "text": [
      "tensor([[-2.8616, -2.7816, -2.8194, -2.8661, -2.8955, -2.8495, -2.8488, -2.8467,\n",
      "         -2.9117, -2.7902, -2.8215, -2.7953, -2.8066, -2.7708, -2.8125, -2.8050,\n",
      "         -2.8961]], grad_fn=<LogSoftmaxBackward0>)\n"
     ]
    }
   ],
   "source": [
    "print(output)"
   ]
  },
  {
   "cell_type": "code",
   "execution_count": 20,
   "metadata": {},
   "outputs": [],
   "source": [
    "def categoryFromOutput(output):\n",
    "    \n",
    "    _, top_i = output.topk(1)\n",
    "    \n",
    "    cat_i = top_i[0].item()\n",
    "    \n",
    "    return all_categories[cat_i], cat_i"
   ]
  },
  {
   "cell_type": "code",
   "execution_count": 21,
   "metadata": {},
   "outputs": [
    {
     "name": "stdout",
     "output_type": "stream",
     "text": [
      "('air mass sensor', 13)\n"
     ]
    }
   ],
   "source": [
    "print(categoryFromOutput(output))"
   ]
  },
  {
   "attachments": {},
   "cell_type": "markdown",
   "metadata": {},
   "source": [
    "#### get training samples category and names"
   ]
  },
  {
   "cell_type": "code",
   "execution_count": 22,
   "metadata": {},
   "outputs": [],
   "source": [
    "import random\n",
    "\n",
    "def randomTrainingExample():\n",
    "    \n",
    "    random_cat_index = random.randint(0, n_category - 1)\n",
    "    randcategory = all_categories[random_cat_index]\n",
    "    \n",
    "    # get feature name from the category\n",
    "    random_feature_names = df_category.get_group(randcategory)['name']\n",
    "    \n",
    "    name = random_feature_names.array[random.randint(0, len(random_feature_names) - 1)]\n",
    "    \n",
    "    category_tensor = torch.tensor([all_categories.index(randcategory)], dtype=torch.long)\n",
    "    name_tensor = nameToTensor(name)\n",
    "    \n",
    "    return randcategory, name, category_tensor, name_tensor"
   ]
  },
  {
   "cell_type": "code",
   "execution_count": 23,
   "metadata": {},
   "outputs": [
    {
     "name": "stdout",
     "output_type": "stream",
     "text": [
      "category = accessory kit , name = mapco 9167 accessory kit brake shoes\n",
      "category = air 47 electric horn , name = vemo v30 77 0150 1 air electric horn\n",
      "category = adjust screw , name = adjust screw headlight\n",
      "category = accelerator cable , name = vaico v24 0376 accelerator cable\n",
      "category = air conditioning , name = mahle original ad 114 000s dryer air conditioning\n",
      "category = aerial head , name = vemo v25 22 0001 aerial head\n",
      "category = air 47 electric horn , name = vemo v30 77 0150 1 air electric horn\n",
      "category = air conditioning , name = mahle original acp 1234 000p compressor air conditioning\n",
      "category = accessory kit , name = accessory kit disc brake pads\n",
      "category = aerial , name = vemo v10 22 0001 aerial\n"
     ]
    }
   ],
   "source": [
    "for i in range(10):\n",
    "    category, name, category_tensor, name_tensor = randomTrainingExample()\n",
    "    \n",
    "    print('category =', category, ', name =', name)"
   ]
  },
  {
   "attachments": {},
   "cell_type": "markdown",
   "metadata": {},
   "source": [
    "#### Training the Network"
   ]
  },
  {
   "cell_type": "code",
   "execution_count": 24,
   "metadata": {},
   "outputs": [],
   "source": [
    "criterion = nn.NLLLoss()\n",
    "learning_rate = 0.005 "
   ]
  },
  {
   "attachments": {},
   "cell_type": "markdown",
   "metadata": {},
   "source": [
    "Each loop of training will:\n",
    "\n",
    "- Create input and target tensors\n",
    "- Create a zeroed initial hidden state\n",
    "- Read each letter in and\n",
    "- Keep hidden state for next letter\n",
    "- Compare final output to target\n",
    "- Back-propagate\n",
    "- Return the output and loss"
   ]
  },
  {
   "cell_type": "code",
   "execution_count": null,
   "metadata": {},
   "outputs": [],
   "source": [
    "def train(category_tensor, name_tensor):\n",
    "    \n",
    "    hidden = rnn.initHidden()\n",
    "\n",
    "    rnn.zero_grad()\n",
    "\n",
    "    for i in range(name_tensor.size()[0]):\n",
    "        output, hidden = rnn(name_tensor[i], hidden)\n",
    "\n",
    "    loss = criterion(output, category_tensor)\n",
    "    loss.backward()\n",
    "\n",
    "    for p in rnn.parameters():\n",
    "        p.data.add_(-learning_rate, p.grad.data)\n",
    "\n",
    "    return output, loss.item()"
   ]
  },
  {
   "attachments": {},
   "cell_type": "markdown",
   "metadata": {},
   "source": [
    "Now we just have to run that with a bunch of examples. Since the train function returns both the output and loss we can print its guesses and also keep track of loss for plotting. Since there are 1000s of examples we print only every print_every examples, and take an average of the loss."
   ]
  },
  {
   "cell_type": "code",
   "execution_count": 26,
   "metadata": {},
   "outputs": [],
   "source": [
    "n_iters = 200000\n",
    "\n",
    "current_loss = 0\n",
    "all_losses = []"
   ]
  },
  {
   "cell_type": "code",
   "execution_count": 27,
   "metadata": {},
   "outputs": [
    {
     "name": "stderr",
     "output_type": "stream",
     "text": [
      "/tmp/ipykernel_2627/665512115.py:14: UserWarning: This overload of add_ is deprecated:\n",
      "\tadd_(Number alpha, Tensor other)\n",
      "Consider using one of the following signatures instead:\n",
      "\tadd_(Tensor other, *, Number alpha) (Triggered internally at ../torch/csrc/utils/python_arg_parser.cpp:1485.)\n",
      "  p.data.add_(-learning_rate, p.grad.data)\n"
     ]
    },
    {
     "name": "stdout",
     "output_type": "stream",
     "text": [
      "5000 2% nan vemo v10 77 0917 1 air electric horn / air conditioning ✗ (air 47 electric horn)\n",
      "10000 5% nan hella 8ja 005 952 041 adapter cable towbar socket / air conditioning ✗ (adapter cable)\n",
      "15000 7% nan mahle original acp 873 000p compressor air conditioning / air conditioning ✓\n",
      "20000 10% nan aks dasis 850811n compressor air conditioning / air conditioning ✓\n",
      "25000 12% nan adaptor cigarette lighter / air conditioning ✗ (adaptor)\n",
      "30000 15% nan ngk 92710 air mass sensor / air conditioning ✗ (air mass sensor)\n",
      "35000 17% nan vemo v70 16 0002 additional water pump / air conditioning ✗ (additional water pump)\n",
      "40000 20% nan ngk 93373 air mass sensor / air conditioning ✗ (air mass sensor)\n",
      "45000 22% nan denso dat23001 actuator air conditioning / air conditioning ✗ (actuator)\n",
      "50000 25% nan vemo v52 72 0135 sensor intake manifold pressure / air conditioning ✗ (air pressure sensor)\n",
      "55000 27% nan adaptor cigarette lighter / air conditioning ✗ (adaptor)\n",
      "60000 30% nan adjust screw headlight / air conditioning ✗ (adjust screw)\n",
      "65000 32% nan vemo v70 16 0002 additional water pump / air conditioning ✗ (additional water pump)\n",
      "70000 35% nan vemo v40 72 0484 air mass sensor / air conditioning ✗ (air mass sensor)\n",
      "75000 37% nan adjust screw headlight / air conditioning ✗ (adjust screw)\n",
      "80000 40% nan vemo v26 72 0008 sensor intake manifold pressure / air conditioning ✗ (air pressure sensor)\n",
      "85000 42% nan vemo v70 16 0002 additional water pump / air conditioning ✗ (additional water pump)\n",
      "90000 45% nan vemo v10 77 0911 1 air horn / air conditioning ✗ (air horn)\n",
      "95000 47% nan vemo v25 22 0001 aerial head / air conditioning ✗ (aerial head)\n",
      "100000 50% nan denso dat23001 actuator air conditioning / air conditioning ✗ (actuator)\n",
      "105000 52% nan adjust screw headlight / air conditioning ✗ (adjust screw)\n",
      "110000 55% nan aks dasis 042170n condenser air conditioning / air conditioning ✓\n",
      "115000 57% nan vemo v20 72 0025 air mass sensor / air conditioning ✗ (air mass sensor)\n",
      "120000 60% nan mahle original lx 542 air filter / air conditioning ✗ (air supply)\n",
      "125000 62% nan mahle original lx 1266 air filter / air conditioning ✗ (air supply)\n",
      "130000 65% nan vemo v30 72 0798 air quality sensor / air conditioning ✗ (air quality sensor)\n",
      "135000 67% nan vemo v25 22 0002 aerial / air conditioning ✗ (aerial)\n",
      "140000 70% nan vemo v95 72 0098 air quality sensor / air conditioning ✗ (air quality sensor)\n",
      "145000 72% nan vemo v10 77 0911 1 air horn / air conditioning ✗ (air horn)\n",
      "150000 75% nan vemo v25 22 0002 aerial / air conditioning ✗ (aerial)\n",
      "155000 77% nan vemo v70 16 0002 additional water pump / air conditioning ✗ (additional water pump)\n",
      "160000 80% nan mahle original lx 144 air filter / air conditioning ✗ (air supply)\n",
      "165000 82% nan vemo v10 72 1028 sensor intake manifold pressure / air conditioning ✗ (air pressure sensor)\n",
      "170000 85% nan vemo v10 22 0001 aerial / air conditioning ✗ (aerial)\n",
      "175000 87% nan vemo v70 16 0002 additional water pump / air conditioning ✗ (additional water pump)\n",
      "180000 90% nan vemo v26 72 0008 sensor intake manifold pressure / air conditioning ✗ (air pressure sensor)\n",
      "185000 92% nan mahle original lx 494 air filter / air conditioning ✗ (air supply)\n"
     ]
    }
   ],
   "source": [
    "for epoch in range(1, n_iters + 1):\n",
    "    \n",
    "    category, name, category_tensor, name_tensor = randomTrainingExample()\n",
    "    \n",
    "    output, loss = train(category_tensor, name_tensor)\n",
    "    current_loss += loss\n",
    "\n",
    "    if epoch % 5000 == 0:\n",
    "        guess, guess_i = categoryFromOutput(output)\n",
    "        correct = '✓' if guess == category else '✗ (%s)' % category\n",
    "        \n",
    "        print('%d %d%% %.4f %s / %s %s' % (epoch, \n",
    "                                           epoch / n_iters * 100,\n",
    "                                           loss,\n",
    "                                           name, \n",
    "                                           guess, \n",
    "                                           correct))\n",
    "\n",
    "    if epoch % 1000 == 0:\n",
    "        all_losses.append(current_loss / 1000)\n",
    "        current_loss = 0"
   ]
  },
  {
   "attachments": {},
   "cell_type": "markdown",
   "metadata": {},
   "source": []
  },
  {
   "cell_type": "code",
   "execution_count": 68,
   "metadata": {},
   "outputs": [
    {
     "data": {
      "image/png": "[encoded data removed]",
      "text/plain": [
       "<Figure size 1000x800 with 1 Axes>"
      ]
     },
     "metadata": {},
     "output_type": "display_data"
    }
   ],
   "source": [
    "import matplotlib.pyplot as plt\n",
    "\n",
    "plt.figure(figsize=(10, 8))\n",
    "plt.plot(all_losses)\n",
    "plt.show()"
   ]
  },
  {
   "cell_type": "code",
   "execution_count": 69,
   "metadata": {},
   "outputs": [],
   "source": [
    "n_predictions = 3"
   ]
  },
  {
   "cell_type": "code",
   "execution_count": 71,
   "metadata": {},
   "outputs": [],
   "source": [
    "input_name = 'suspension kit'"
   ]
  },
  {
   "cell_type": "code",
   "execution_count": 72,
   "metadata": {},
   "outputs": [
    {
     "name": "stdout",
     "output_type": "stream",
     "text": [
      "(nan) track control arm\n",
      "(nan) tensioner pulley\n",
      "(nan) thermostat\n"
     ]
    }
   ],
   "source": [
    "with torch.no_grad():\n",
    "    \n",
    "    name_tensor = nameToTensor(input_name)\n",
    "    \n",
    "    hidden = rnn.initHidden()\n",
    "    for i in range(name_tensor.size()[0]):\n",
    "        output, hidden = rnn(name_tensor[i], hidden)\n",
    "\n",
    "    topv, topi = output.topk(n_predictions, 1, True)\n",
    "\n",
    "    for i in range(n_predictions):\n",
    "        \n",
    "        value = topv[0][i].item()\n",
    "        cat_i = topi[0][i].item()\n",
    "        \n",
    "        print('(%.2f) %s' % (value, all_categories[cat_i]))"
   ]
  },
  {
   "cell_type": "code",
   "execution_count": null,
   "metadata": {},
   "outputs": [],
   "source": []
  }
 ],
 "metadata": {
  "kernelspec": {
   "display_name": ".venv",
   "language": "python",
   "name": "python3"
  },
  "language_info": {
   "codemirror_mode": {
    "name": "ipython",
    "version": 3
   },
   "file_extension": ".py",
   "mimetype": "text/x-python",
   "name": "python",
   "nbconvert_exporter": "python",
   "pygments_lexer": "ipython3",
   "version": "3.10.12"
  },
  "orig_nbformat": 4
 },
 "nbformat": 4,
 "nbformat_minor": 2
}
