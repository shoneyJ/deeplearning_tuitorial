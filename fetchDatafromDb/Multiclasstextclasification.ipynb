{
 "cells": [
  {
   "cell_type": "code",
   "execution_count": 1,
   "metadata": {},
   "outputs": [
    {
     "data": {
      "text/plain": [
       "\"abcdefghijklmnopqrstuvwxyzABCDEFGHIJKLMNOPQRSTUVWXYZ .,;'0123456789\""
      ]
     },
     "execution_count": 1,
     "metadata": {},
     "output_type": "execute_result"
    }
   ],
   "source": [
    "import unicodedata\n",
    "import string\n",
    "import pandas as pd\n",
    "import re\n",
    "import numpy as np\n",
    "\n",
    "import sklearn\n",
    "import matplotlib.pyplot as plt\n",
    "import seaborn as sns\n",
    "\n",
    "all_letters = string.ascii_letters + \" .,;'0123456789\"\n",
    "n_letters = len(all_letters)\n",
    "\n",
    "all_letters"
   ]
  },
  {
   "attachments": {},
   "cell_type": "markdown",
   "metadata": {},
   "source": [
    "Build Category dictionary, category and list of product name, shor description"
   ]
  },
  {
   "cell_type": "code",
   "execution_count": 2,
   "metadata": {},
   "outputs": [],
   "source": [
    "from elasticsearch import Elasticsearch\n",
    "client = Elasticsearch(\"http://172.17.212.35:9200\")\n",
    "resp = client.search(index=\"retromotion-indexer_development_products\",\n",
    "                     body={\"_source\":[\"descriptions\",\"descriptionsSource\",\"nameSource\",\"shortDescriptionSource\",\"categoriesSource\"],\n",
    "                           'size' : 65000,\n",
    "                           \"query\": {\"match_all\": {}}})"
   ]
  },
  {
   "cell_type": "code",
   "execution_count": 3,
   "metadata": {},
   "outputs": [],
   "source": [
    "df_eng = pd.DataFrame(columns=['name','sdesc','category','catlevel0','catlevel1','catlevel2','catlevel3','catlevel4','catlevel5'])"
   ]
  },
  {
   "cell_type": "code",
   "execution_count": 4,
   "metadata": {},
   "outputs": [],
   "source": [
    "def cleanStr(text):\n",
    "   \n",
    "    # remove numbers\n",
    "    # no_number_string = re.sub(r'\\d+','',lower_string)\n",
    "\n",
    "    # remove all punctuation except words and space\n",
    "    # text = re.sub(r'[^\\w\\s]','', lower_string)\n",
    "\n",
    "    # clean = re.compile('<.*?>')\n",
    "\n",
    "    # text = re.sub(clean,'',text)\n",
    "    text = re.sub('<[^>]*>', '', text)\n",
    "    emoticons = re.findall('(?::|;|=)(?:-)?(?:\\)|\\(|D|P)', text)\n",
    "    text = (re.sub('[\\W]+', ' ', text.lower()) + ' ' .join(emoticons).replace('-', ''))\n",
    "\n",
    "    return text\n"
   ]
  },
  {
   "cell_type": "code",
   "execution_count": 5,
   "metadata": {},
   "outputs": [],
   "source": [
    "name_en=[]\n",
    "name_de=[]\n",
    "\n",
    "sdesc_en=[]\n",
    "sdesc_de=[]\n",
    "\n",
    "desc_en=[]\n",
    "desc_de=[]\n",
    "\n",
    "cat_en=[]\n",
    "cat_de=[]\n",
    "\n",
    "catpath_en=[]\n",
    "catpath_de=[]\n",
    "\n",
    "for hit in resp['hits']['hits']:\n",
    "    list_row =[]\n",
    "    for name in hit['_source']['nameSource']:\n",
    "        if (name[\"language\"]==\"en\"):\n",
    "            list_row.append(cleanStr(name[\"value\"]))\n",
    "        else:\n",
    "            name_de.append(name[\"value\"])\n",
    "    \n",
    "    for sdesc in hit['_source']['shortDescriptionSource']:\n",
    "        if (sdesc[\"language\"]==\"en\"):\n",
    "            list_row.append(cleanStr(sdesc[\"value\"]))\n",
    "        else:\n",
    "            sdesc_de.append(sdesc[\"value\"])\n",
    "\n",
    "    # for desc in hit['_source']['descriptionsSource']:\n",
    "    #     if (desc[\"language\"]==\"en\"):\n",
    "    #         desc_en.append(readHtml(desc[\"value\"]))\n",
    "    #     else:\n",
    "    #         desc_de.append(desc[\"value\"])\n",
    "    \n",
    "    for cats in hit['_source']['categoriesSource']:\n",
    "        if (cats[\"language\"]==\"en\"):\n",
    "            list_row.append(cleanStr(cats[\"label\"]))\n",
    "        else:\n",
    "            desc_de.append(cats[\"label\"])\n",
    "\n",
    "        if (cats[\"language\"]==\"en\"):\n",
    "            categories =cats[\"path\"].split('/')\n",
    "            i =0\n",
    "            catls=[]\n",
    "            for category in categories:\n",
    "\n",
    "                list_row.append(cleanStr(category))\n",
    "                i= i+1\n",
    "            \n",
    "        else:\n",
    "            catpath_de.append(cats[\"path\"])\n",
    "    \n",
    "    # new_row = pd.DataFrame({'name':_name, 'sdesc':_sdesc, 'category':_cat_en }, index=[0])\n",
    "\n",
    "    # pd.concat([new_row,df_eng.loc[:]]).reset_index(drop=True)\n",
    "\n",
    "    for i in range (0,9-len(list_row)):\n",
    "        list_row.append(np.nan)\n",
    "\n",
    "    df_eng.loc[len(df_eng)] = list_row\n",
    "\n"
   ]
  },
  {
   "cell_type": "code",
   "execution_count": 6,
   "metadata": {},
   "outputs": [
    {
     "data": {
      "text/html": [
       "<div>\n",
       "<style scoped>\n",
       "    .dataframe tbody tr th:only-of-type {\n",
       "        vertical-align: middle;\n",
       "    }\n",
       "\n",
       "    .dataframe tbody tr th {\n",
       "        vertical-align: top;\n",
       "    }\n",
       "\n",
       "    .dataframe thead th {\n",
       "        text-align: right;\n",
       "    }\n",
       "</style>\n",
       "<table border=\"1\" class=\"dataframe\">\n",
       "  <thead>\n",
       "    <tr style=\"text-align: right;\">\n",
       "      <th></th>\n",
       "      <th>name</th>\n",
       "      <th>sdesc</th>\n",
       "      <th>category</th>\n",
       "      <th>catlevel0</th>\n",
       "      <th>catlevel1</th>\n",
       "      <th>catlevel2</th>\n",
       "      <th>catlevel3</th>\n",
       "      <th>catlevel4</th>\n",
       "      <th>catlevel5</th>\n",
       "    </tr>\n",
       "  </thead>\n",
       "  <tbody>\n",
       "    <tr>\n",
       "      <th>0</th>\n",
       "      <td>denso dtm82363 thermostat coolant</td>\n",
       "      <td>thermostat coolant</td>\n",
       "      <td>thermostat</td>\n",
       "      <td>sparepart</td>\n",
       "      <td>cooling system</td>\n",
       "      <td>thermostat</td>\n",
       "      <td>NaN</td>\n",
       "      <td>NaN</td>\n",
       "      <td>NaN</td>\n",
       "    </tr>\n",
       "    <tr>\n",
       "      <th>1</th>\n",
       "      <td>zf 1043 010 297 automatic transmission</td>\n",
       "      <td>automatic transmission</td>\n",
       "      <td>automatic transmission</td>\n",
       "      <td>sparepart</td>\n",
       "      <td>transmission</td>\n",
       "      <td>automatic transmission</td>\n",
       "      <td>automatic transmission</td>\n",
       "      <td>NaN</td>\n",
       "      <td>NaN</td>\n",
       "    </tr>\n",
       "    <tr>\n",
       "      <th>2</th>\n",
       "      <td>zf 1060 040 003 automatic transmission</td>\n",
       "      <td>automatic transmission</td>\n",
       "      <td>automatic transmission</td>\n",
       "      <td>sparepart</td>\n",
       "      <td>transmission</td>\n",
       "      <td>automatic transmission</td>\n",
       "      <td>automatic transmission</td>\n",
       "      <td>NaN</td>\n",
       "      <td>NaN</td>\n",
       "    </tr>\n",
       "    <tr>\n",
       "      <th>3</th>\n",
       "      <td>vaico v10 0131 camshaft</td>\n",
       "      <td>camshaft</td>\n",
       "      <td>camshaft</td>\n",
       "      <td>sparepart</td>\n",
       "      <td>engine</td>\n",
       "      <td>engine timing</td>\n",
       "      <td>camshaft</td>\n",
       "      <td>NaN</td>\n",
       "      <td>NaN</td>\n",
       "    </tr>\n",
       "    <tr>\n",
       "      <th>4</th>\n",
       "      <td>vaico v26 0302 track control arm</td>\n",
       "      <td>track control arm</td>\n",
       "      <td>track control arm</td>\n",
       "      <td>sparepart</td>\n",
       "      <td>powertrain suspension</td>\n",
       "      <td>wheel suspension</td>\n",
       "      <td>track control arm</td>\n",
       "      <td>NaN</td>\n",
       "      <td>NaN</td>\n",
       "    </tr>\n",
       "  </tbody>\n",
       "</table>\n",
       "</div>"
      ],
      "text/plain": [
       "                                     name                   sdesc  \\\n",
       "0       denso dtm82363 thermostat coolant      thermostat coolant   \n",
       "1  zf 1043 010 297 automatic transmission  automatic transmission   \n",
       "2  zf 1060 040 003 automatic transmission  automatic transmission   \n",
       "3                 vaico v10 0131 camshaft                camshaft   \n",
       "4        vaico v26 0302 track control arm       track control arm   \n",
       "\n",
       "                 category  catlevel0              catlevel1  \\\n",
       "0              thermostat  sparepart         cooling system   \n",
       "1  automatic transmission  sparepart           transmission   \n",
       "2  automatic transmission  sparepart           transmission   \n",
       "3                camshaft  sparepart                 engine   \n",
       "4       track control arm  sparepart  powertrain suspension   \n",
       "\n",
       "                catlevel2               catlevel3  catlevel4  catlevel5  \n",
       "0              thermostat                     NaN        NaN        NaN  \n",
       "1  automatic transmission  automatic transmission        NaN        NaN  \n",
       "2  automatic transmission  automatic transmission        NaN        NaN  \n",
       "3           engine timing                camshaft        NaN        NaN  \n",
       "4        wheel suspension       track control arm        NaN        NaN  "
      ]
     },
     "execution_count": 6,
     "metadata": {},
     "output_type": "execute_result"
    }
   ],
   "source": [
    "df_eng.head()"
   ]
  },
  {
   "cell_type": "code",
   "execution_count": 7,
   "metadata": {},
   "outputs": [],
   "source": [
    "df_category = df_eng.groupby('category')"
   ]
  },
  {
   "cell_type": "code",
   "execution_count": 8,
   "metadata": {},
   "outputs": [
    {
     "data": {
      "text/plain": [
       "1        zf 1043 010 297 automatic transmission\n",
       "2        zf 1060 040 003 automatic transmission\n",
       "19       zf 1043 010 562 automatic transmission\n",
       "20       zf 1050 012 014 automatic transmission\n",
       "37       zf 1043 000 224 automatic transmission\n",
       "                          ...                  \n",
       "22275    zf 1043 010 644 automatic transmission\n",
       "22276    zf 1043 010 670 automatic transmission\n",
       "22310    zf 1060 030 049 automatic transmission\n",
       "22320    zf 1043 010 373 automatic transmission\n",
       "22321    zf 1050 020 026 automatic transmission\n",
       "Name: name, Length: 492, dtype: object"
      ]
     },
     "execution_count": 8,
     "metadata": {},
     "output_type": "execute_result"
    }
   ],
   "source": [
    "df_category.get_group('automatic transmission')['name']\n",
    "\n"
   ]
  },
  {
   "cell_type": "code",
   "execution_count": 9,
   "metadata": {},
   "outputs": [
    {
     "name": "stdout",
     "output_type": "stream",
     "text": [
      "['accelerator cable', 'accessory kit', 'actuator', 'adapter cable', 'adaptor', 'additional water pump', 'adjust screw', 'aerial', 'aerial head', 'air 47 electric horn', 'air conditioning', 'air filter', 'air horn', 'air mass sensor', 'air pressure sensor', 'air quality sensor', 'air supply', 'alternator', 'alternator freewheel clutch', 'alternator regulator', 'anti friction bearing', 'antifreeze', 'assortment box', 'automatic circuit breaker', 'automatic transmission', 'automatic transmission oil', 'auxiliary indicator', 'ball head', 'ball joint', 'base', 'battery post clamp', 'bearing', 'bearing bush', 'bellow', 'bellow set', 'belt drive', 'belt pulley', 'belt pulley set', 'belt tensioner', 'big end bearings', 'bolt', 'bonnet cable', 'bonnet lock', 'boost pressure control valve', 'bracket', 'brake caliper', 'brake caliper axle kit', 'brake disc', 'brake drum', 'brake hose', 'brake light switch', 'brake master cylinder', 'brake pad set', 'brake set', 'brake shoe set', 'brake system', 'breather hose', 'breather valve', 'buffer', 'bulb', 'bulb socket', 'bulbs assortment', 'busbar', 'bush', 'cable', 'cable adapter', 'cable connector', 'cable connector kit', 'cable repair set', 'cable tie', 'camshaft', 'camshaft adjuster', 'camshaft bushes', 'camshaft kit', 'cap', 'carrier', 'centering bush', 'central electric', 'central slave cylinder', 'centre rod assembly', 'chain', 'chain set', 'chain tensioner', 'change over valve', 'charcoal filter valve', 'charger', 'charger intake hose', 'cigarette lighter', 'circlip', 'clamp', 'clamping clip', 'clip', 'clockspring', 'clutch', 'clutch cable', 'clutch disc', 'clutch hose', 'clutch kit', 'clutch pedal pad', 'clutch pressure plate', 'coil spring', 'coiled cable', 'combination rearlight', 'compressed air system', 'compressor', 'condenser', 'contact breaker', 'contact pin', 'contact sleeve', 'control', 'control arm 47 trailing arm bush', 'control element', 'control lamp', 'control stalk', 'control unit', 'control valve', 'coolant flange', 'coolant tube', 'cooler module', 'cooling system', 'corrugated pipe', 'cover', 'cowling', 'crankcase', 'crankshaft drive', 'crimping pliers handle', 'crimping pliers insert', 'cupholder', 'cylinder head', 'cylinder sleeve', 'daytime running light', 'daytime running light set', 'deflection 47 guide pulley', 'diffusing lens', 'distributor', 'distributor cap', 'door catch', 'door handle', 'door seal', 'drag link end', 'drive arm', 'drive shaft', 'dryer', 'dust cover kit', 'earth strap', 'egr valve', 'electric kit', 'electric motor', 'engine mounting', 'engine oil', 'engine timing', 'evaporator', 'expansion tank', 'expansion valve', 'eyelid', 'fan', 'fan wheel', 'filter', 'filter set', 'final drive', 'finger follower', 'flange', 'flaring', 'flasher unit', 'flywheel', 'fog light', 'frame', 'fuel feed unit', 'fuel filter', 'fuel hose', 'fuel pump', 'fuel supply system', 'fuel tank', 'funnel', 'fuse', 'fuse box', 'fuse holder', 'fuse kit', 'gas spring', 'gasket', 'gasket 47 seal', 'gasket set', 'gear', 'glow plug', 'grommet', 'guide sleeve', 'guide sleeve kit', 'guides', 'handle', 'harness', 'hazard light switch', 'hazard lights relay', 'headlight', 'headlight cleaning system', 'headlight set', 'heat exchanger', 'heat shield', 'heating', 'heatshrink tube', 'high 47 low pressure line', 'high pressure line', 'high pressure pump', 'hinge', 'holder', 'holder set', 'holding bracket', 'holding clamp', 'hose', 'housing', 'hydraulic filter', 'hydraulic filter set', 'hydraulic hose', 'hydraulic pump', 'idle control valve', 'ignition 47 starter switch', 'ignition cable', 'ignition cable kit', 'ignition coil', 'ignition coil unit', 'impeller', 'indicator', 'indicator set', 'injector', 'injector nozzle', 'insert', 'insulating tape', 'intake hose', 'intake manifold', 'intercooler', 'interior blower', 'interior light', 'intermediate bearing', 'jack support plate', 'joint', 'joint kit', 'knock sensor', 'lambda sensor', 'lens', 'licence plate light', 'link', 'link set', 'linkage damper', 'lock cylinder', 'lock cylinder kit', 'low pressure line', 'lubricating pipe', 'lubrication', 'magnetic clutch', 'main bearings', 'manual transmission', 'master cylinder', 'mixture formation', 'mounting', 'mounting bracket', 'mounting kit', 'multifunctional relay', 'non return valve', 'nox sensor', 'o ring set', 'oil cooler', 'oil dipstick', 'oil filter', 'oil pressure switch', 'oil pump', 'oil seal', 'oil trap', 'outlet valve', 'parts kit', 'parts set', 'pedal pad', 'pedal travel sensor', 'pipe', 'pipe connector', 'piston', 'piston ring kit', 'plug', 'plug distributor', 'plug housing', 'pre resistor', 'pressure control valve', 'pressure converter', 'pressure switch', 'propshaft', 'protective cap 47 bellow', 'pulley', 'pulley bolt', 'pulley set', 'pump', 'radiator', 'radiator hose', 'radiator mounting', 'rain sensor', 'reading light', 'rear fog light', 'reflector', 'reflex reflector', 'regulating valve', 'regulator', 'relay', 'release tools', 'releaser', 'repair kit', 'repair set', 'resistor', 'reverse light', 'rocker 47 tappet', 'rocker arm shaft', 'rod 47 strut', 'rod assembly', 'roller guide', 'rotating beacon', 'rotor', 'rpm sensor', 'rubber buffer', 'safety clamp', 'screw', 'screw plug', 'seal', 'seal set', 'sealing cap', 'sealing plug', 'searchlight', 'secondary air pump', 'selector 47 shift rod', 'sender unit', 'sensor', 'sensor ring', 'shaft seal', 'shift console', 'shift valve', 'shock absorber', 'side marker light', 'silencing material', 'skid plate', 'slave cylinder', 'sleeve', 'small end bushes', 'socket', 'socket adapter', 'spark plug', 'spiral hose', 'splash panel', 'split anchor', 'spotlight', 'spotlight set', 'spring', 'spring cap', 'spring mounting', 'spring pack', 'stabiliser mounting', 'stabiliser set', 'starter', 'starter battery', 'steering', 'steering angle sensor', 'steering arm', 'steering column', 'steering column switch', 'steering gear', 'steering linkage', 'steering lock', 'stub axle', 'support', 'supporting ring', 'suspension', 'suspension kit', 'suspension sphere', 'suspension strut', 'sway bar', 'switch', 'switch unit', 'tacho shaft', 'temperature switch', 'tensioner', 'tensioner guide', 'tensioner lever', 'tensioner pulley', 'testing unit', 'thermostat', 'thermostat housing', 'throttle body', 'thrust piece', 'thrust washer', 'tie rod', 'tie rod axle joint', 'tie rod end', 'timing belt', 'timing belt set', 'timing chain', 'timing chain kit', 'tools', 'top strut mounting', 'track control arm', 'track widening', 'transmission oil', 'tripod hub', 'tyres', 'v belt', 'v ribbed belt set', 'v ribbed belts', 'vacuum control valve', 'vacuum hose', 'vacuum pump', 'valve', 'valve seat', 'ventilation', 'ventilation grille', 'vibration damper', 'warning contact', 'washer', 'washer fluid jet', 'washer fluid tank', 'water circulaton pump', 'water pump', 'water pump timing belt set', 'wet sump', 'wheel bearing', 'wheel bearing kit', 'wheel bolt', 'wheel brake cylinder', 'wheel hub', 'wheel nut', 'wheel sensor', 'wheel stud', 'wheel suspension', 'window regulator', 'wiper arm', 'wiper bearing', 'wiper blade', 'wiper blade rubber', 'wiper linkage', 'wiper motor', 'worklight']\n"
     ]
    }
   ],
   "source": [
    "# extract keys from groups\n",
    "keys = df_category.groups.keys()\n",
    "# for i in keys:\n",
    "#     print(category.get_group(i))\n",
    "#     print('\\n')\n",
    "\n",
    "    # Display result\n",
    "\n",
    "all_categories=list(keys)\n",
    "\n",
    "print (all_categories)"
   ]
  },
  {
   "attachments": {},
   "cell_type": "markdown",
   "metadata": {},
   "source": [
    "#### Turning product Names into Tensors\n",
    "        \t    \n",
    "Represent each name in one-hot encoded form (1 for the position of the letter, 0 elsewhere)\n",
    "\n",
    "To make a word we join a bunch of those into a 2D matrix <line_length x 1 x n_letters>.\n",
    "That extra 1 dimension is because PyTorch assumes everything is in batches - we're just using a batch size of 1 here."
   ]
  },
  {
   "cell_type": "code",
   "execution_count": 10,
   "metadata": {},
   "outputs": [],
   "source": [
    "import torch"
   ]
  },
  {
   "cell_type": "code",
   "execution_count": 11,
   "metadata": {},
   "outputs": [],
   "source": [
    "def letterToTensor(letter):\n",
    "    \n",
    "    tensor = torch.zeros(1, n_letters)\n",
    "    tensor[0][all_letters.find(letter)] = 1\n",
    "    \n",
    "    return tensor"
   ]
  },
  {
   "cell_type": "code",
   "execution_count": 19,
   "metadata": {},
   "outputs": [
    {
     "name": "stdout",
     "output_type": "stream",
     "text": [
      "tensor([[1., 0., 0., 0., 0., 0., 0., 0., 0., 0., 0., 0., 0., 0., 0., 0., 0., 0.,\n",
      "         0., 0., 0., 0., 0., 0., 0., 0., 0., 0., 0., 0., 0., 0., 0., 0., 0., 0.,\n",
      "         0., 0., 0., 0., 0., 0., 0., 0., 0., 0., 0., 0., 0., 0., 0., 0., 0., 0.,\n",
      "         0., 0., 0., 0., 0., 0., 0., 0., 0., 0., 0., 0., 0.]])\n"
     ]
    }
   ],
   "source": [
    "print(letterToTensor('a'))"
   ]
  },
  {
   "cell_type": "code",
   "execution_count": 12,
   "metadata": {},
   "outputs": [],
   "source": [
    "def nameToTensor(name):\n",
    "    tensor = torch.zeros(len(name), 1, n_letters)\n",
    "    \n",
    "    for li, letter in enumerate(name):\n",
    "        tensor[li][0][all_letters.find(letter)] = 1\n",
    "    \n",
    "    return tensor"
   ]
  },
  {
   "cell_type": "code",
   "execution_count": 21,
   "metadata": {},
   "outputs": [
    {
     "data": {
      "text/plain": [
       "torch.Size([33, 1, 67])"
      ]
     },
     "execution_count": 21,
     "metadata": {},
     "output_type": "execute_result"
    }
   ],
   "source": [
    "p_tensor = nameToTensor('denso dtm82363 thermostat coolant')\n",
    "\n",
    "p_tensor.size()"
   ]
  },
  {
   "cell_type": "code",
   "execution_count": 22,
   "metadata": {},
   "outputs": [
    {
     "data": {
      "text/plain": [
       "tensor([[[0., 0., 0.,  ..., 0., 0., 0.]],\n",
       "\n",
       "        [[0., 0., 0.,  ..., 0., 0., 0.]],\n",
       "\n",
       "        [[0., 0., 0.,  ..., 0., 0., 0.]],\n",
       "\n",
       "        ...,\n",
       "\n",
       "        [[1., 0., 0.,  ..., 0., 0., 0.]],\n",
       "\n",
       "        [[0., 0., 0.,  ..., 0., 0., 0.]],\n",
       "\n",
       "        [[0., 0., 0.,  ..., 0., 0., 0.]]])"
      ]
     },
     "execution_count": 22,
     "metadata": {},
     "output_type": "execute_result"
    }
   ],
   "source": [
    "p_tensor"
   ]
  },
  {
   "cell_type": "code",
   "execution_count": 13,
   "metadata": {},
   "outputs": [],
   "source": [
    "import torch.nn as nn\n",
    "\n",
    "class RNN(nn.Module):\n",
    "    \n",
    "    def __init__(self, input_size, hidden_size, output_size):\n",
    "        \n",
    "        super(RNN, self).__init__()\n",
    "\n",
    "        self.hidden_size = hidden_size\n",
    "\n",
    "        self.i2h = nn.Linear(input_size + hidden_size, hidden_size)\n",
    "        \n",
    "        self.i2o = nn.Linear(input_size + hidden_size, output_size)\n",
    "        \n",
    "        self.softmax = nn.LogSoftmax(dim=1)\n",
    "\n",
    "    def forward(self, input, hidden):\n",
    "        combined = torch.cat((input, hidden), 1)\n",
    "        \n",
    "        hidden = self.i2h(combined)\n",
    "        \n",
    "        output = self.i2o(combined)\n",
    "        output = self.softmax(output)\n",
    "        \n",
    "        return output, hidden\n",
    "\n",
    "    def initHidden(self):\n",
    "        return torch.zeros(1, self.hidden_size)"
   ]
  },
  {
   "cell_type": "code",
   "execution_count": 14,
   "metadata": {},
   "outputs": [],
   "source": [
    "n_hidden = 256\n",
    "n_category = len(category)\n",
    "\n",
    "rnn = RNN(n_letters, n_hidden, n_category)"
   ]
  },
  {
   "cell_type": "code",
   "execution_count": 29,
   "metadata": {},
   "outputs": [
    {
     "name": "stdout",
     "output_type": "stream",
     "text": [
      "output size = torch.Size([1, 9])\n",
      "next_hidden size = torch.Size([1, 256])\n"
     ]
    }
   ],
   "source": [
    "inp = letterToTensor('C')\n",
    "\n",
    "hidden = torch.zeros(1, n_hidden)\n",
    "\n",
    "output, next_hidden = rnn(inp, hidden)\n",
    "\n",
    "print('output size =', output.size())\n",
    "print('next_hidden size =', next_hidden.size())"
   ]
  },
  {
   "cell_type": "code",
   "execution_count": 30,
   "metadata": {},
   "outputs": [],
   "source": [
    "inp = nameToTensor('denso dtm82363 thermostat coolant')\n",
    "\n",
    "hidden = torch.zeros(1, n_hidden)\n",
    "\n",
    "output, next_hidden = rnn(inp[0], hidden)"
   ]
  },
  {
   "cell_type": "code",
   "execution_count": 31,
   "metadata": {},
   "outputs": [
    {
     "name": "stdout",
     "output_type": "stream",
     "text": [
      "tensor([[-2.2812, -2.2042, -2.2270, -2.1712, -2.1616, -2.1168, -2.2543, -2.1659,\n",
      "         -2.2031]], grad_fn=<LogSoftmaxBackward0>)\n"
     ]
    }
   ],
   "source": [
    "print(output)"
   ]
  },
  {
   "cell_type": "code",
   "execution_count": 15,
   "metadata": {},
   "outputs": [],
   "source": [
    "def categoryFromOutput(output):\n",
    "    \n",
    "    _, top_i = output.topk(1)\n",
    "    \n",
    "    cat_i = top_i[0].item()\n",
    "    \n",
    "    return all_categories[cat_i], cat_i"
   ]
  },
  {
   "cell_type": "code",
   "execution_count": 45,
   "metadata": {},
   "outputs": [
    {
     "name": "stdout",
     "output_type": "stream",
     "text": [
      "('tensioner pulley', 5)\n"
     ]
    }
   ],
   "source": [
    "print(categoryFromOutput(output))"
   ]
  },
  {
   "attachments": {},
   "cell_type": "markdown",
   "metadata": {},
   "source": [
    "#### get training samples category and names"
   ]
  },
  {
   "cell_type": "code",
   "execution_count": 16,
   "metadata": {},
   "outputs": [],
   "source": [
    "import random\n",
    "\n",
    "def randomTrainingExample():\n",
    "    \n",
    "    random_cat_index = random.randint(0, n_category - 1)\n",
    "    randcategory = all_categories[random_cat_index]\n",
    "    \n",
    "    # get feature name from the category\n",
    "    random_feature_names = df_category.get_group(randcategory)['name']\n",
    "    \n",
    "    name = random_feature_names.array[random.randint(0, len(random_feature_names) - 1)]\n",
    "    \n",
    "    category_tensor = torch.tensor([all_categories.index(randcategory)], dtype=torch.long)\n",
    "    name_tensor = nameToTensor(name)\n",
    "    \n",
    "    return randcategory, name, category_tensor, name_tensor"
   ]
  },
  {
   "cell_type": "code",
   "execution_count": 17,
   "metadata": {},
   "outputs": [
    {
     "name": "stdout",
     "output_type": "stream",
     "text": [
      "category = air supply , name = mahle original lx 923 air filter\n",
      "category = adjust screw , name = adjust screw headlight\n",
      "category = air horn , name = vemo v10 77 0911 1 air horn\n",
      "category = air horn , name = vemo v10 77 0911 1 air horn\n",
      "category = air 47 electric horn , name = vemo v10 77 0918 1 air electric horn\n",
      "category = adapter cable , name = hella 8ja 005 952 101 adapter cable towbar socket\n",
      "category = air 47 electric horn , name = vemo v10 77 0918 1 air electric horn\n",
      "category = accelerator cable , name = vaico v10 2459 accelerator cable\n",
      "category = air quality sensor , name = vemo v95 72 0098 air quality sensor\n",
      "category = additional water pump , name = vemo v70 16 0002 additional water pump\n"
     ]
    }
   ],
   "source": [
    "for i in range(10):\n",
    "    category, name, category_tensor, name_tensor = randomTrainingExample()\n",
    "    \n",
    "    print('category =', category, ', name =', name)"
   ]
  },
  {
   "attachments": {},
   "cell_type": "markdown",
   "metadata": {},
   "source": [
    "#### Training the Network"
   ]
  },
  {
   "cell_type": "code",
   "execution_count": 18,
   "metadata": {},
   "outputs": [],
   "source": [
    "criterion = nn.NLLLoss()\n",
    "learning_rate = 0.005 "
   ]
  },
  {
   "attachments": {},
   "cell_type": "markdown",
   "metadata": {},
   "source": [
    "Each loop of training will:\n",
    "\n",
    "- Create input and target tensors\n",
    "- Create a zeroed initial hidden state\n",
    "- Read each letter in and\n",
    "- Keep hidden state for next letter\n",
    "- Compare final output to target\n",
    "- Back-propagate\n",
    "- Return the output and loss"
   ]
  },
  {
   "cell_type": "code",
   "execution_count": 19,
   "metadata": {},
   "outputs": [],
   "source": [
    "def train(category_tensor, name_tensor):\n",
    "    \n",
    "    hidden = rnn.initHidden()\n",
    "\n",
    "    rnn.zero_grad()\n",
    "\n",
    "    for i in range(name_tensor.size()[0]):\n",
    "        output, hidden = rnn(name_tensor[i], hidden)\n",
    "\n",
    "    loss = criterion(output, category_tensor)\n",
    "    loss.backward()\n",
    "\n",
    "    for p in rnn.parameters():\n",
    "        p.data.add_(-learning_rate, p.grad.data)\n",
    "\n",
    "    return output, loss.item()"
   ]
  },
  {
   "attachments": {},
   "cell_type": "markdown",
   "metadata": {},
   "source": [
    "Now we just have to run that with a bunch of examples. Since the train function returns both the output and loss we can print its guesses and also keep track of loss for plotting. Since there are 1000s of examples we print only every print_every examples, and take an average of the loss."
   ]
  },
  {
   "cell_type": "code",
   "execution_count": 20,
   "metadata": {},
   "outputs": [],
   "source": [
    "n_iters = 200000\n",
    "\n",
    "current_loss = 0\n",
    "all_losses = []"
   ]
  },
  {
   "cell_type": "code",
   "execution_count": 21,
   "metadata": {},
   "outputs": [
    {
     "name": "stderr",
     "output_type": "stream",
     "text": [
      "/tmp/ipykernel_2589/665512115.py:14: UserWarning: This overload of add_ is deprecated:\n",
      "\tadd_(Number alpha, Tensor other)\n",
      "Consider using one of the following signatures instead:\n",
      "\tadd_(Tensor other, *, Number alpha) (Triggered internally at ../torch/csrc/utils/python_arg_parser.cpp:1485.)\n",
      "  p.data.add_(-learning_rate, p.grad.data)\n"
     ]
    },
    {
     "name": "stdout",
     "output_type": "stream",
     "text": [
      "5000 2% nan vemo v95 72 0098 air quality sensor / air conditioning ✗ (air quality sensor)\n",
      "10000 5% nan valeo 585051 air filter / air conditioning ✗ (air filter)\n",
      "15000 7% nan vemo v70 16 0002 additional water pump / air conditioning ✗ (additional water pump)\n",
      "20000 10% nan adaptor cigarette lighter / air conditioning ✗ (adaptor)\n",
      "25000 12% nan vemo v10 77 0917 1 air electric horn / air conditioning ✗ (air 47 electric horn)\n",
      "30000 15% nan vaico v52 0075 air filter / air conditioning ✗ (air filter)\n",
      "35000 17% nan hella 8ja 005 952 101 adapter cable towbar socket / air conditioning ✗ (adapter cable)\n",
      "40000 20% nan vemo v10 77 0912 1 air horn / air conditioning ✗ (air horn)\n",
      "45000 22% nan vemo v70 16 0002 additional water pump / air conditioning ✗ (additional water pump)\n",
      "50000 25% nan adjust screw headlight / air conditioning ✗ (adjust screw)\n",
      "55000 27% nan vaico v24 0376 accelerator cable / air conditioning ✗ (accelerator cable)\n",
      "60000 30% nan hella 8ja 005 952 101 adapter cable towbar socket / air conditioning ✗ (adapter cable)\n",
      "65000 32% nan accessory kit disc brake pads / air conditioning ✗ (accessory kit)\n",
      "70000 35% nan adaptor cigarette lighter / air conditioning ✗ (adaptor)\n",
      "75000 37% nan vemo v95 72 0098 air quality sensor / air conditioning ✗ (air quality sensor)\n",
      "80000 40% nan accessory kit brake caliper / air conditioning ✗ (accessory kit)\n",
      "85000 42% nan vemo v24 72 0002 air mass sensor / air conditioning ✗ (air mass sensor)\n",
      "90000 45% nan hella 8ja 005 952 041 adapter cable towbar socket / air conditioning ✗ (adapter cable)\n",
      "95000 47% nan accessory kit disc brake pads / air conditioning ✗ (accessory kit)\n",
      "100000 50% nan aks dasis 853130n compressor air conditioning / air conditioning ✓\n",
      "105000 52% nan vemo v25 22 0001 aerial head / air conditioning ✗ (aerial head)\n",
      "110000 55% nan vemo v10 77 0917 1 air electric horn / air conditioning ✗ (air 47 electric horn)\n",
      "115000 57% nan vemo v10 77 0912 1 air horn / air conditioning ✗ (air horn)\n",
      "120000 60% nan accessory kit disc brake pads / air conditioning ✗ (accessory kit)\n",
      "125000 62% nan vemo v10 77 0918 1 air electric horn / air conditioning ✗ (air 47 electric horn)\n",
      "130000 65% nan vemo v25 22 0002 aerial / air conditioning ✗ (aerial)\n",
      "135000 67% nan accessory kit disc brake pads / air conditioning ✗ (accessory kit)\n",
      "140000 70% nan vemo v10 22 0001 aerial / air conditioning ✗ (aerial)\n",
      "145000 72% nan vaico v10 2459 accelerator cable / air conditioning ✗ (accelerator cable)\n",
      "150000 75% nan vemo v10 77 0912 1 air horn / air conditioning ✗ (air horn)\n"
     ]
    },
    {
     "ename": "KeyboardInterrupt",
     "evalue": "",
     "output_type": "error",
     "traceback": [
      "\u001b[0;31m---------------------------------------------------------------------------\u001b[0m",
      "\u001b[0;31mKeyboardInterrupt\u001b[0m                         Traceback (most recent call last)",
      "Cell \u001b[0;32mIn[21], line 3\u001b[0m\n\u001b[1;32m      1\u001b[0m \u001b[39mfor\u001b[39;00m epoch \u001b[39min\u001b[39;00m \u001b[39mrange\u001b[39m(\u001b[39m1\u001b[39m, n_iters \u001b[39m+\u001b[39m \u001b[39m1\u001b[39m):\n\u001b[0;32m----> 3\u001b[0m     category, name, category_tensor, name_tensor \u001b[39m=\u001b[39m randomTrainingExample()\n\u001b[1;32m      5\u001b[0m     output, loss \u001b[39m=\u001b[39m train(category_tensor, name_tensor)\n\u001b[1;32m      6\u001b[0m     current_loss \u001b[39m+\u001b[39m\u001b[39m=\u001b[39m loss\n",
      "Cell \u001b[0;32mIn[16], line 9\u001b[0m, in \u001b[0;36mrandomTrainingExample\u001b[0;34m()\u001b[0m\n\u001b[1;32m      6\u001b[0m randcategory \u001b[39m=\u001b[39m all_categories[random_cat_index]\n\u001b[1;32m      8\u001b[0m \u001b[39m# get feature name from the category\u001b[39;00m\n\u001b[0;32m----> 9\u001b[0m random_feature_names \u001b[39m=\u001b[39m df_category\u001b[39m.\u001b[39;49mget_group(randcategory)[\u001b[39m'\u001b[39m\u001b[39mname\u001b[39m\u001b[39m'\u001b[39m]\n\u001b[1;32m     11\u001b[0m name \u001b[39m=\u001b[39m random_feature_names\u001b[39m.\u001b[39marray[random\u001b[39m.\u001b[39mrandint(\u001b[39m0\u001b[39m, \u001b[39mlen\u001b[39m(random_feature_names) \u001b[39m-\u001b[39m \u001b[39m1\u001b[39m)]\n\u001b[1;32m     13\u001b[0m category_tensor \u001b[39m=\u001b[39m torch\u001b[39m.\u001b[39mtensor([all_categories\u001b[39m.\u001b[39mindex(randcategory)], dtype\u001b[39m=\u001b[39mtorch\u001b[39m.\u001b[39mlong)\n",
      "File \u001b[0;32m~/dev/.venv/lib/python3.10/site-packages/pandas/core/groupby/groupby.py:802\u001b[0m, in \u001b[0;36mBaseGroupBy.get_group\u001b[0;34m(self, name, obj)\u001b[0m\n\u001b[1;32m    799\u001b[0m \u001b[39mif\u001b[39;00m \u001b[39mnot\u001b[39;00m \u001b[39mlen\u001b[39m(inds):\n\u001b[1;32m    800\u001b[0m     \u001b[39mraise\u001b[39;00m \u001b[39mKeyError\u001b[39;00m(name)\n\u001b[0;32m--> 802\u001b[0m \u001b[39mreturn\u001b[39;00m obj\u001b[39m.\u001b[39;49m_take_with_is_copy(inds, axis\u001b[39m=\u001b[39;49m\u001b[39mself\u001b[39;49m\u001b[39m.\u001b[39;49maxis)\n",
      "File \u001b[0;32m~/dev/.venv/lib/python3.10/site-packages/pandas/core/generic.py:3948\u001b[0m, in \u001b[0;36mNDFrame._take_with_is_copy\u001b[0;34m(self, indices, axis)\u001b[0m\n\u001b[1;32m   3940\u001b[0m \u001b[39mdef\u001b[39;00m \u001b[39m_take_with_is_copy\u001b[39m(\u001b[39mself\u001b[39m: NDFrameT, indices, axis: Axis \u001b[39m=\u001b[39m \u001b[39m0\u001b[39m) \u001b[39m-\u001b[39m\u001b[39m>\u001b[39m NDFrameT:\n\u001b[1;32m   3941\u001b[0m \u001b[39m    \u001b[39m\u001b[39m\"\"\"\u001b[39;00m\n\u001b[1;32m   3942\u001b[0m \u001b[39m    Internal version of the `take` method that sets the `_is_copy`\u001b[39;00m\n\u001b[1;32m   3943\u001b[0m \u001b[39m    attribute to keep track of the parent dataframe (using in indexing\u001b[39;00m\n\u001b[0;32m   (...)\u001b[0m\n\u001b[1;32m   3946\u001b[0m \u001b[39m    See the docstring of `take` for full explanation of the parameters.\u001b[39;00m\n\u001b[1;32m   3947\u001b[0m \u001b[39m    \"\"\"\u001b[39;00m\n\u001b[0;32m-> 3948\u001b[0m     result \u001b[39m=\u001b[39m \u001b[39mself\u001b[39;49m\u001b[39m.\u001b[39;49m_take(indices\u001b[39m=\u001b[39;49mindices, axis\u001b[39m=\u001b[39;49maxis)\n\u001b[1;32m   3949\u001b[0m     \u001b[39m# Maybe set copy if we didn't actually change the index.\u001b[39;00m\n\u001b[1;32m   3950\u001b[0m     \u001b[39mif\u001b[39;00m \u001b[39mnot\u001b[39;00m result\u001b[39m.\u001b[39m_get_axis(axis)\u001b[39m.\u001b[39mequals(\u001b[39mself\u001b[39m\u001b[39m.\u001b[39m_get_axis(axis)):\n",
      "File \u001b[0;32m~/dev/.venv/lib/python3.10/site-packages/pandas/core/generic.py:3932\u001b[0m, in \u001b[0;36mNDFrame._take\u001b[0;34m(self, indices, axis, convert_indices)\u001b[0m\n\u001b[1;32m   3924\u001b[0m     \u001b[39mif\u001b[39;00m (\n\u001b[1;32m   3925\u001b[0m         axis \u001b[39m==\u001b[39m \u001b[39m0\u001b[39m\n\u001b[1;32m   3926\u001b[0m         \u001b[39mand\u001b[39;00m indices\u001b[39m.\u001b[39mndim \u001b[39m==\u001b[39m \u001b[39m1\u001b[39m\n\u001b[1;32m   3927\u001b[0m         \u001b[39mand\u001b[39;00m using_copy_on_write()\n\u001b[1;32m   3928\u001b[0m         \u001b[39mand\u001b[39;00m is_range_indexer(indices, \u001b[39mlen\u001b[39m(\u001b[39mself\u001b[39m))\n\u001b[1;32m   3929\u001b[0m     ):\n\u001b[1;32m   3930\u001b[0m         \u001b[39mreturn\u001b[39;00m \u001b[39mself\u001b[39m\u001b[39m.\u001b[39mcopy(deep\u001b[39m=\u001b[39m\u001b[39mNone\u001b[39;00m)\n\u001b[0;32m-> 3932\u001b[0m new_data \u001b[39m=\u001b[39m \u001b[39mself\u001b[39;49m\u001b[39m.\u001b[39;49m_mgr\u001b[39m.\u001b[39;49mtake(\n\u001b[1;32m   3933\u001b[0m     indices,\n\u001b[1;32m   3934\u001b[0m     axis\u001b[39m=\u001b[39;49m\u001b[39mself\u001b[39;49m\u001b[39m.\u001b[39;49m_get_block_manager_axis(axis),\n\u001b[1;32m   3935\u001b[0m     verify\u001b[39m=\u001b[39;49m\u001b[39mTrue\u001b[39;49;00m,\n\u001b[1;32m   3936\u001b[0m     convert_indices\u001b[39m=\u001b[39;49mconvert_indices,\n\u001b[1;32m   3937\u001b[0m )\n\u001b[1;32m   3938\u001b[0m \u001b[39mreturn\u001b[39;00m \u001b[39mself\u001b[39m\u001b[39m.\u001b[39m_constructor(new_data)\u001b[39m.\u001b[39m__finalize__(\u001b[39mself\u001b[39m, method\u001b[39m=\u001b[39m\u001b[39m\"\u001b[39m\u001b[39mtake\u001b[39m\u001b[39m\"\u001b[39m)\n",
      "File \u001b[0;32m~/dev/.venv/lib/python3.10/site-packages/pandas/core/internals/managers.py:963\u001b[0m, in \u001b[0;36mBaseBlockManager.take\u001b[0;34m(self, indexer, axis, verify, convert_indices)\u001b[0m\n\u001b[1;32m    960\u001b[0m     indexer \u001b[39m=\u001b[39m maybe_convert_indices(indexer, n, verify\u001b[39m=\u001b[39mverify)\n\u001b[1;32m    962\u001b[0m new_labels \u001b[39m=\u001b[39m \u001b[39mself\u001b[39m\u001b[39m.\u001b[39maxes[axis]\u001b[39m.\u001b[39mtake(indexer)\n\u001b[0;32m--> 963\u001b[0m \u001b[39mreturn\u001b[39;00m \u001b[39mself\u001b[39;49m\u001b[39m.\u001b[39;49mreindex_indexer(\n\u001b[1;32m    964\u001b[0m     new_axis\u001b[39m=\u001b[39;49mnew_labels,\n\u001b[1;32m    965\u001b[0m     indexer\u001b[39m=\u001b[39;49mindexer,\n\u001b[1;32m    966\u001b[0m     axis\u001b[39m=\u001b[39;49maxis,\n\u001b[1;32m    967\u001b[0m     allow_dups\u001b[39m=\u001b[39;49m\u001b[39mTrue\u001b[39;49;00m,\n\u001b[1;32m    968\u001b[0m     copy\u001b[39m=\u001b[39;49m\u001b[39mNone\u001b[39;49;00m,\n\u001b[1;32m    969\u001b[0m )\n",
      "File \u001b[0;32m~/dev/.venv/lib/python3.10/site-packages/pandas/core/internals/managers.py:747\u001b[0m, in \u001b[0;36mBaseBlockManager.reindex_indexer\u001b[0;34m(self, new_axis, indexer, axis, fill_value, allow_dups, copy, only_slice, use_na_proxy)\u001b[0m\n\u001b[1;32m    740\u001b[0m     new_blocks \u001b[39m=\u001b[39m \u001b[39mself\u001b[39m\u001b[39m.\u001b[39m_slice_take_blocks_ax0(\n\u001b[1;32m    741\u001b[0m         indexer,\n\u001b[1;32m    742\u001b[0m         fill_value\u001b[39m=\u001b[39mfill_value,\n\u001b[1;32m    743\u001b[0m         only_slice\u001b[39m=\u001b[39monly_slice,\n\u001b[1;32m    744\u001b[0m         use_na_proxy\u001b[39m=\u001b[39muse_na_proxy,\n\u001b[1;32m    745\u001b[0m     )\n\u001b[1;32m    746\u001b[0m \u001b[39melse\u001b[39;00m:\n\u001b[0;32m--> 747\u001b[0m     new_blocks \u001b[39m=\u001b[39m [\n\u001b[1;32m    748\u001b[0m         blk\u001b[39m.\u001b[39mtake_nd(\n\u001b[1;32m    749\u001b[0m             indexer,\n\u001b[1;32m    750\u001b[0m             axis\u001b[39m=\u001b[39m\u001b[39m1\u001b[39m,\n\u001b[1;32m    751\u001b[0m             fill_value\u001b[39m=\u001b[39m(\n\u001b[1;32m    752\u001b[0m                 fill_value \u001b[39mif\u001b[39;00m fill_value \u001b[39mis\u001b[39;00m \u001b[39mnot\u001b[39;00m \u001b[39mNone\u001b[39;00m \u001b[39melse\u001b[39;00m blk\u001b[39m.\u001b[39mfill_value\n\u001b[1;32m    753\u001b[0m             ),\n\u001b[1;32m    754\u001b[0m         )\n\u001b[1;32m    755\u001b[0m         \u001b[39mfor\u001b[39;00m blk \u001b[39min\u001b[39;00m \u001b[39mself\u001b[39m\u001b[39m.\u001b[39mblocks\n\u001b[1;32m    756\u001b[0m     ]\n\u001b[1;32m    758\u001b[0m new_axes \u001b[39m=\u001b[39m \u001b[39mlist\u001b[39m(\u001b[39mself\u001b[39m\u001b[39m.\u001b[39maxes)\n\u001b[1;32m    759\u001b[0m new_axes[axis] \u001b[39m=\u001b[39m new_axis\n",
      "File \u001b[0;32m~/dev/.venv/lib/python3.10/site-packages/pandas/core/internals/managers.py:748\u001b[0m, in \u001b[0;36m<listcomp>\u001b[0;34m(.0)\u001b[0m\n\u001b[1;32m    740\u001b[0m     new_blocks \u001b[39m=\u001b[39m \u001b[39mself\u001b[39m\u001b[39m.\u001b[39m_slice_take_blocks_ax0(\n\u001b[1;32m    741\u001b[0m         indexer,\n\u001b[1;32m    742\u001b[0m         fill_value\u001b[39m=\u001b[39mfill_value,\n\u001b[1;32m    743\u001b[0m         only_slice\u001b[39m=\u001b[39monly_slice,\n\u001b[1;32m    744\u001b[0m         use_na_proxy\u001b[39m=\u001b[39muse_na_proxy,\n\u001b[1;32m    745\u001b[0m     )\n\u001b[1;32m    746\u001b[0m \u001b[39melse\u001b[39;00m:\n\u001b[1;32m    747\u001b[0m     new_blocks \u001b[39m=\u001b[39m [\n\u001b[0;32m--> 748\u001b[0m         blk\u001b[39m.\u001b[39;49mtake_nd(\n\u001b[1;32m    749\u001b[0m             indexer,\n\u001b[1;32m    750\u001b[0m             axis\u001b[39m=\u001b[39;49m\u001b[39m1\u001b[39;49m,\n\u001b[1;32m    751\u001b[0m             fill_value\u001b[39m=\u001b[39;49m(\n\u001b[1;32m    752\u001b[0m                 fill_value \u001b[39mif\u001b[39;49;00m fill_value \u001b[39mis\u001b[39;49;00m \u001b[39mnot\u001b[39;49;00m \u001b[39mNone\u001b[39;49;00m \u001b[39melse\u001b[39;49;00m blk\u001b[39m.\u001b[39;49mfill_value\n\u001b[1;32m    753\u001b[0m             ),\n\u001b[1;32m    754\u001b[0m         )\n\u001b[1;32m    755\u001b[0m         \u001b[39mfor\u001b[39;00m blk \u001b[39min\u001b[39;00m \u001b[39mself\u001b[39m\u001b[39m.\u001b[39mblocks\n\u001b[1;32m    756\u001b[0m     ]\n\u001b[1;32m    758\u001b[0m new_axes \u001b[39m=\u001b[39m \u001b[39mlist\u001b[39m(\u001b[39mself\u001b[39m\u001b[39m.\u001b[39maxes)\n\u001b[1;32m    759\u001b[0m new_axes[axis] \u001b[39m=\u001b[39m new_axis\n",
      "File \u001b[0;32m~/dev/.venv/lib/python3.10/site-packages/pandas/core/internals/blocks.py:945\u001b[0m, in \u001b[0;36mBlock.take_nd\u001b[0;34m(self, indexer, axis, new_mgr_locs, fill_value)\u001b[0m\n\u001b[1;32m    942\u001b[0m     allow_fill \u001b[39m=\u001b[39m \u001b[39mTrue\u001b[39;00m\n\u001b[1;32m    944\u001b[0m \u001b[39m# Note: algos.take_nd has upcast logic similar to coerce_to_target_dtype\u001b[39;00m\n\u001b[0;32m--> 945\u001b[0m new_values \u001b[39m=\u001b[39m algos\u001b[39m.\u001b[39;49mtake_nd(\n\u001b[1;32m    946\u001b[0m     values, indexer, axis\u001b[39m=\u001b[39;49maxis, allow_fill\u001b[39m=\u001b[39;49mallow_fill, fill_value\u001b[39m=\u001b[39;49mfill_value\n\u001b[1;32m    947\u001b[0m )\n\u001b[1;32m    949\u001b[0m \u001b[39m# Called from three places in managers, all of which satisfy\u001b[39;00m\n\u001b[1;32m    950\u001b[0m \u001b[39m#  these assertions\u001b[39;00m\n\u001b[1;32m    951\u001b[0m \u001b[39mif\u001b[39;00m \u001b[39misinstance\u001b[39m(\u001b[39mself\u001b[39m, ExtensionBlock):\n\u001b[1;32m    952\u001b[0m     \u001b[39m# NB: in this case, the 'axis' kwarg will be ignored in the\u001b[39;00m\n\u001b[1;32m    953\u001b[0m     \u001b[39m#  algos.take_nd call above.\u001b[39;00m\n",
      "File \u001b[0;32m~/dev/.venv/lib/python3.10/site-packages/pandas/core/array_algos/take.py:117\u001b[0m, in \u001b[0;36mtake_nd\u001b[0;34m(arr, indexer, axis, fill_value, allow_fill)\u001b[0m\n\u001b[1;32m    114\u001b[0m     \u001b[39mreturn\u001b[39;00m arr\u001b[39m.\u001b[39mtake(indexer, fill_value\u001b[39m=\u001b[39mfill_value, allow_fill\u001b[39m=\u001b[39mallow_fill)\n\u001b[1;32m    116\u001b[0m arr \u001b[39m=\u001b[39m np\u001b[39m.\u001b[39masarray(arr)\n\u001b[0;32m--> 117\u001b[0m \u001b[39mreturn\u001b[39;00m _take_nd_ndarray(arr, indexer, axis, fill_value, allow_fill)\n",
      "File \u001b[0;32m~/dev/.venv/lib/python3.10/site-packages/pandas/core/array_algos/take.py:159\u001b[0m, in \u001b[0;36m_take_nd_ndarray\u001b[0;34m(arr, indexer, axis, fill_value, allow_fill)\u001b[0m\n\u001b[1;32m    156\u001b[0m \u001b[39melse\u001b[39;00m:\n\u001b[1;32m    157\u001b[0m     out \u001b[39m=\u001b[39m np\u001b[39m.\u001b[39mempty(out_shape, dtype\u001b[39m=\u001b[39mdtype)\n\u001b[0;32m--> 159\u001b[0m func \u001b[39m=\u001b[39m _get_take_nd_function(\n\u001b[1;32m    160\u001b[0m     arr\u001b[39m.\u001b[39;49mndim, arr\u001b[39m.\u001b[39;49mdtype, out\u001b[39m.\u001b[39;49mdtype, axis\u001b[39m=\u001b[39;49maxis, mask_info\u001b[39m=\u001b[39;49mmask_info\n\u001b[1;32m    161\u001b[0m )\n\u001b[1;32m    162\u001b[0m func(arr, indexer, out, fill_value)\n\u001b[1;32m    164\u001b[0m \u001b[39mif\u001b[39;00m flip_order:\n",
      "File \u001b[0;32m~/dev/.venv/lib/python3.10/site-packages/pandas/core/array_algos/take.py:339\u001b[0m, in \u001b[0;36m_get_take_nd_function\u001b[0;34m(ndim, arr_dtype, out_dtype, axis, mask_info)\u001b[0m\n\u001b[1;32m    336\u001b[0m func \u001b[39m=\u001b[39m \u001b[39mNone\u001b[39;00m\n\u001b[1;32m    337\u001b[0m \u001b[39mif\u001b[39;00m ndim \u001b[39m<\u001b[39m\u001b[39m=\u001b[39m \u001b[39m2\u001b[39m:\n\u001b[1;32m    338\u001b[0m     \u001b[39m# for this part we don't need `mask_info` -> use the cached algo lookup\u001b[39;00m\n\u001b[0;32m--> 339\u001b[0m     func \u001b[39m=\u001b[39m _get_take_nd_function_cached(ndim, arr_dtype, out_dtype, axis)\n\u001b[1;32m    341\u001b[0m \u001b[39mif\u001b[39;00m func \u001b[39mis\u001b[39;00m \u001b[39mNone\u001b[39;00m:\n\u001b[1;32m    343\u001b[0m     \u001b[39mdef\u001b[39;00m \u001b[39mfunc\u001b[39m(arr, indexer, out, fill_value\u001b[39m=\u001b[39mnp\u001b[39m.\u001b[39mnan) \u001b[39m-\u001b[39m\u001b[39m>\u001b[39m \u001b[39mNone\u001b[39;00m:\n",
      "\u001b[0;31mKeyboardInterrupt\u001b[0m: "
     ]
    }
   ],
   "source": [
    "for epoch in range(1, n_iters + 1):\n",
    "    \n",
    "    category, name, category_tensor, name_tensor = randomTrainingExample()\n",
    "    \n",
    "    output, loss = train(category_tensor, name_tensor)\n",
    "    current_loss += loss\n",
    "\n",
    "    if epoch % 5000 == 0:\n",
    "        guess, guess_i = categoryFromOutput(output)\n",
    "        correct = '✓' if guess == category else '✗ (%s)' % category\n",
    "        \n",
    "        print('%d %d%% %.4f %s / %s %s' % (epoch, \n",
    "                                           epoch / n_iters * 100,\n",
    "                                           loss,\n",
    "                                           name, \n",
    "                                           guess, \n",
    "                                           correct))\n",
    "\n",
    "    if epoch % 1000 == 0:\n",
    "        all_losses.append(current_loss / 1000)\n",
    "        current_loss = 0"
   ]
  },
  {
   "cell_type": "code",
   "execution_count": 68,
   "metadata": {},
   "outputs": [
    {
     "data": {
      "image/png": "[encoded data removed]",
      "text/plain": [
       "<Figure size 1000x800 with 1 Axes>"
      ]
     },
     "metadata": {},
     "output_type": "display_data"
    }
   ],
   "source": [
    "import matplotlib.pyplot as plt\n",
    "\n",
    "plt.figure(figsize=(10, 8))\n",
    "plt.plot(all_losses)\n",
    "plt.show()"
   ]
  },
  {
   "cell_type": "code",
   "execution_count": 69,
   "metadata": {},
   "outputs": [],
   "source": [
    "n_predictions = 3"
   ]
  },
  {
   "cell_type": "code",
   "execution_count": 71,
   "metadata": {},
   "outputs": [],
   "source": [
    "input_name = 'suspension kit'"
   ]
  },
  {
   "cell_type": "code",
   "execution_count": 72,
   "metadata": {},
   "outputs": [
    {
     "name": "stdout",
     "output_type": "stream",
     "text": [
      "(nan) track control arm\n",
      "(nan) tensioner pulley\n",
      "(nan) thermostat\n"
     ]
    }
   ],
   "source": [
    "with torch.no_grad():\n",
    "    \n",
    "    name_tensor = nameToTensor(input_name)\n",
    "    \n",
    "    hidden = rnn.initHidden()\n",
    "    for i in range(name_tensor.size()[0]):\n",
    "        output, hidden = rnn(name_tensor[i], hidden)\n",
    "\n",
    "    topv, topi = output.topk(n_predictions, 1, True)\n",
    "\n",
    "    for i in range(n_predictions):\n",
    "        \n",
    "        value = topv[0][i].item()\n",
    "        cat_i = topi[0][i].item()\n",
    "        \n",
    "        print('(%.2f) %s' % (value, all_categories[cat_i]))"
   ]
  },
  {
   "cell_type": "code",
   "execution_count": null,
   "metadata": {},
   "outputs": [],
   "source": []
  }
 ],
 "metadata": {
  "kernelspec": {
   "display_name": ".venv",
   "language": "python",
   "name": "python3"
  },
  "language_info": {
   "codemirror_mode": {
    "name": "ipython",
    "version": 3
   },
   "file_extension": ".py",
   "mimetype": "text/x-python",
   "name": "python",
   "nbconvert_exporter": "python",
   "pygments_lexer": "ipython3",
   "version": "3.10.12"
  },
  "orig_nbformat": 4
 },
 "nbformat": 4,
 "nbformat_minor": 2
}
